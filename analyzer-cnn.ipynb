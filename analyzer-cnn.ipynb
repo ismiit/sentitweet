{
 "cells": [
  {
   "cell_type": "code",
   "execution_count": 1,
   "id": "70a1029a",
   "metadata": {
    "_cell_guid": "b1076dfc-b9ad-4769-8c92-a6c4dae69d19",
    "_uuid": "8f2839f25d086af736a60e9eeb907d3b93b6e0e5",
    "execution": {
     "iopub.execute_input": "2022-05-24T18:43:38.179667Z",
     "iopub.status.busy": "2022-05-24T18:43:38.179278Z",
     "iopub.status.idle": "2022-05-24T18:43:38.198438Z",
     "shell.execute_reply": "2022-05-24T18:43:38.197740Z"
    },
    "papermill": {
     "duration": 0.044489,
     "end_time": "2022-05-24T18:43:38.200661",
     "exception": false,
     "start_time": "2022-05-24T18:43:38.156172",
     "status": "completed"
    },
    "tags": []
   },
   "outputs": [
    {
     "name": "stdout",
     "output_type": "stream",
     "text": [
      "/kaggle/input/sentiment140/training.1600000.processed.noemoticon.csv\n"
     ]
    }
   ],
   "source": [
    "# This Python 3 environment comes with many helpful analytics libraries installed\n",
    "# It is defined by the kaggle/python Docker image: https://github.com/kaggle/docker-python\n",
    "# For example, here's several helpful packages to load\n",
    "\n",
    "import numpy as np # linear algebra\n",
    "import pandas as pd # data processing, CSV file I/O (e.g. pd.read_csv)\n",
    "\n",
    "# Input data files are available in the read-only \"../input/\" directory\n",
    "# For example, running this (by clicking run or pressing Shift+Enter) will list all files under the input directory\n",
    "\n",
    "import os\n",
    "for dirname, _, filenames in os.walk('/kaggle/input'):\n",
    "    for filename in filenames:\n",
    "        print(os.path.join(dirname, filename))\n",
    "\n",
    "# You can write up to 20GB to the current directory (/kaggle/working/) that gets preserved as output when you create a version using \"Save & Run All\" \n",
    "# You can also write temporary files to /kaggle/temp/, but they won't be saved outside of the current session"
   ]
  },
  {
   "cell_type": "code",
   "execution_count": 2,
   "id": "f0aa7da3",
   "metadata": {
    "execution": {
     "iopub.execute_input": "2022-05-24T18:43:38.243727Z",
     "iopub.status.busy": "2022-05-24T18:43:38.243153Z",
     "iopub.status.idle": "2022-05-24T18:43:44.603387Z",
     "shell.execute_reply": "2022-05-24T18:43:44.602661Z"
    },
    "papermill": {
     "duration": 6.383039,
     "end_time": "2022-05-24T18:43:44.605468",
     "exception": false,
     "start_time": "2022-05-24T18:43:38.222429",
     "status": "completed"
    },
    "tags": []
   },
   "outputs": [],
   "source": [
    "import numpy as np\n",
    "import pandas as pd\n",
    "import re\n",
    "import string\n",
    "import nltk\n",
    "import gensim\n",
    "import pickle\n",
    "import matplotlib.pyplot as plt\n",
    "from nltk.tokenize import word_tokenize\n",
    "from nltk.corpus import stopwords\n",
    "from nltk.stem.wordnet import WordNetLemmatizer\n",
    "from nltk.corpus import stopwords\n",
    "from nltk.corpus import stopwords\n",
    "from nltk import punkt\n",
    "from nltk import wordnet\n",
    "\n",
    "from sklearn.model_selection import train_test_split\n",
    "\n",
    "from keras.preprocessing.text import Tokenizer\n",
    "from keras.preprocessing.sequence import pad_sequences\n",
    "from keras.models import Sequential\n",
    "from keras.layers import Dense, Embedding, LSTM, Dropout, GRU, Bidirectional, Conv1D, GlobalMaxPooling1D\n",
    "from keras.utils.np_utils import to_categorical\n",
    "from keras.callbacks import ReduceLROnPlateau, EarlyStopping"
   ]
  },
  {
   "cell_type": "code",
   "execution_count": 3,
   "id": "d6d4cfbf",
   "metadata": {
    "execution": {
     "iopub.execute_input": "2022-05-24T18:43:44.647325Z",
     "iopub.status.busy": "2022-05-24T18:43:44.647111Z",
     "iopub.status.idle": "2022-05-24T18:43:50.227013Z",
     "shell.execute_reply": "2022-05-24T18:43:50.226176Z"
    },
    "papermill": {
     "duration": 5.603876,
     "end_time": "2022-05-24T18:43:50.229653",
     "exception": false,
     "start_time": "2022-05-24T18:43:44.625777",
     "status": "completed"
    },
    "tags": []
   },
   "outputs": [
    {
     "name": "stderr",
     "output_type": "stream",
     "text": [
      "/opt/conda/lib/python3.7/site-packages/ipykernel_launcher.py:6: SettingWithCopyWarning: \n",
      "A value is trying to be set on a copy of a slice from a DataFrame\n",
      "\n",
      "See the caveats in the documentation: https://pandas.pydata.org/pandas-docs/stable/user_guide/indexing.html#returning-a-view-versus-a-copy\n",
      "  \n"
     ]
    }
   ],
   "source": [
    "data_columns = [\"target\", \"ids\", \"date\", \"flag\", \"user\", \"text\"]\n",
    "data_encoding = \"ISO-8859-1\"\n",
    "data=pd.read_csv('/kaggle/input/sentiment140/training.1600000.processed.noemoticon.csv',encoding = data_encoding, names=data_columns)\n",
    "X = data.iloc[:,[5]]\n",
    "y = data.iloc[:,0]\n",
    "y[y==4]=1"
   ]
  },
  {
   "cell_type": "code",
   "execution_count": 4,
   "id": "69a25d8a",
   "metadata": {
    "execution": {
     "iopub.execute_input": "2022-05-24T18:43:50.275768Z",
     "iopub.status.busy": "2022-05-24T18:43:50.275493Z",
     "iopub.status.idle": "2022-05-24T18:43:50.283598Z",
     "shell.execute_reply": "2022-05-24T18:43:50.282736Z"
    },
    "papermill": {
     "duration": 0.03354,
     "end_time": "2022-05-24T18:43:50.285831",
     "exception": false,
     "start_time": "2022-05-24T18:43:50.252291",
     "status": "completed"
    },
    "tags": []
   },
   "outputs": [],
   "source": [
    "def repair(tweet):\n",
    "    username = \"@\\S+\"\n",
    "    new_tweet = re.sub(username, ' ',tweet) # Remove @tags\n",
    "    \n",
    "    new_tweet = new_tweet.lower() # Smart lowercase\n",
    "    \n",
    "    new_tweet = re.sub(r'\\d+', ' ', new_tweet) # Remove numbers\n",
    "    \n",
    "    text_noise = \"https?:\\S+|http?:\\S|[^A-Za-z0-9]+\" \n",
    "    new_tweet = re.sub(text_noise, ' ', new_tweet) # Remove links\n",
    "    \n",
    "    new_tweet = new_tweet.translate(new_tweet.maketrans('','',string.punctuation)) # Remove Punctuation\n",
    "    \n",
    "    new_tweet = new_tweet.strip() # Remove white spaces\n",
    "    \n",
    "    new_tweet = word_tokenize(new_tweet) # Tokenize into words\n",
    "    \n",
    "    new_tweet = ' '.join([word for word in new_tweet if word.isalpha()]) # Remove non alphabetic tokens\n",
    "    \n",
    "    stop_words = set(stopwords.words('english'))\n",
    "    new_tweet = ' '.join([word for word in new_tweet.split() if not word in stop_words]) # Filter out stop words\n",
    "    \n",
    "    lemmatizer = WordNetLemmatizer()\n",
    "    new_tweet = ' '.join([lemmatizer.lemmatize(word,\"v\") for word in new_tweet.split()]) # Word Lemmatization\n",
    "    \n",
    "    return new_tweet"
   ]
  },
  {
   "cell_type": "code",
   "execution_count": 5,
   "id": "f0972141",
   "metadata": {
    "execution": {
     "iopub.execute_input": "2022-05-24T18:43:50.331347Z",
     "iopub.status.busy": "2022-05-24T18:43:50.331081Z",
     "iopub.status.idle": "2022-05-24T18:54:30.047192Z",
     "shell.execute_reply": "2022-05-24T18:54:30.046450Z"
    },
    "papermill": {
     "duration": 639.762935,
     "end_time": "2022-05-24T18:54:30.071553",
     "exception": false,
     "start_time": "2022-05-24T18:43:50.308618",
     "status": "completed"
    },
    "tags": []
   },
   "outputs": [
    {
     "name": "stderr",
     "output_type": "stream",
     "text": [
      "/opt/conda/lib/python3.7/site-packages/ipykernel_launcher.py:1: SettingWithCopyWarning: \n",
      "A value is trying to be set on a copy of a slice from a DataFrame.\n",
      "Try using .loc[row_indexer,col_indexer] = value instead\n",
      "\n",
      "See the caveats in the documentation: https://pandas.pydata.org/pandas-docs/stable/user_guide/indexing.html#returning-a-view-versus-a-copy\n",
      "  \"\"\"Entry point for launching an IPython kernel.\n"
     ]
    }
   ],
   "source": [
    "X['text']= X['text'].apply(repair)"
   ]
  },
  {
   "cell_type": "code",
   "execution_count": 6,
   "id": "7a5a8b57",
   "metadata": {
    "execution": {
     "iopub.execute_input": "2022-05-24T18:54:30.114098Z",
     "iopub.status.busy": "2022-05-24T18:54:30.113725Z",
     "iopub.status.idle": "2022-05-24T18:54:30.530600Z",
     "shell.execute_reply": "2022-05-24T18:54:30.529778Z"
    },
    "papermill": {
     "duration": 0.44121,
     "end_time": "2022-05-24T18:54:30.533294",
     "exception": false,
     "start_time": "2022-05-24T18:54:30.092084",
     "status": "completed"
    },
    "tags": []
   },
   "outputs": [
    {
     "name": "stdout",
     "output_type": "stream",
     "text": [
      "TRAIN size: 1280000\n",
      "TEST size: 320000\n"
     ]
    }
   ],
   "source": [
    "X_train, X_test, y_train, y_test = train_test_split(X, y, test_size=0.2, random_state=42)\n",
    "print(\"TRAIN size:\", len(X_train))\n",
    "print(\"TEST size:\", len(X_test))"
   ]
  },
  {
   "cell_type": "code",
   "execution_count": 7,
   "id": "83b848e3",
   "metadata": {
    "execution": {
     "iopub.execute_input": "2022-05-24T18:54:30.581921Z",
     "iopub.status.busy": "2022-05-24T18:54:30.581298Z",
     "iopub.status.idle": "2022-05-24T18:54:36.778912Z",
     "shell.execute_reply": "2022-05-24T18:54:36.778097Z"
    },
    "papermill": {
     "duration": 6.224306,
     "end_time": "2022-05-24T18:54:36.781165",
     "exception": false,
     "start_time": "2022-05-24T18:54:30.556859",
     "status": "completed"
    },
    "tags": []
   },
   "outputs": [],
   "source": [
    "w2v_size = 300\n",
    "w2v_win = 7\n",
    "w2v_epoch = 32\n",
    "w2v_mincount = 10\n",
    "\n",
    "document = [tweet.split() for tweet in X_train.text]\n",
    "word2vec_model = gensim.models.word2vec.Word2Vec(vector_size=w2v_size,\n",
    "                                                window=w2v_win,\n",
    "                                                min_count=w2v_mincount,\n",
    "                                                workers=8)\n",
    "\n",
    "word2vec_model.build_vocab(document)"
   ]
  },
  {
   "cell_type": "code",
   "execution_count": 8,
   "id": "db2d929a",
   "metadata": {
    "execution": {
     "iopub.execute_input": "2022-05-24T18:54:36.824703Z",
     "iopub.status.busy": "2022-05-24T18:54:36.824475Z",
     "iopub.status.idle": "2022-05-24T18:54:36.830600Z",
     "shell.execute_reply": "2022-05-24T18:54:36.829715Z"
    },
    "papermill": {
     "duration": 0.029588,
     "end_time": "2022-05-24T18:54:36.832335",
     "exception": false,
     "start_time": "2022-05-24T18:54:36.802747",
     "status": "completed"
    },
    "tags": []
   },
   "outputs": [
    {
     "name": "stdout",
     "output_type": "stream",
     "text": [
      "Vocabulary_size :::  25276\n"
     ]
    }
   ],
   "source": [
    "words = word2vec_model.wv.index_to_key\n",
    "vocabulary_size = len(words)\n",
    "print('Vocabulary_size ::: ',vocabulary_size)"
   ]
  },
  {
   "cell_type": "code",
   "execution_count": 9,
   "id": "bb597126",
   "metadata": {
    "execution": {
     "iopub.execute_input": "2022-05-24T18:54:36.875589Z",
     "iopub.status.busy": "2022-05-24T18:54:36.875400Z",
     "iopub.status.idle": "2022-05-24T19:05:43.247111Z",
     "shell.execute_reply": "2022-05-24T19:05:43.246461Z"
    },
    "papermill": {
     "duration": 666.416896,
     "end_time": "2022-05-24T19:05:43.270602",
     "exception": false,
     "start_time": "2022-05-24T18:54:36.853706",
     "status": "completed"
    },
    "tags": []
   },
   "outputs": [
    {
     "data": {
      "text/plain": [
       "(251370830, 289225504)"
      ]
     },
     "execution_count": 9,
     "metadata": {},
     "output_type": "execute_result"
    }
   ],
   "source": [
    "word2vec_model.train(document,total_examples=len(document),epochs=w2v_epoch)"
   ]
  },
  {
   "cell_type": "code",
   "execution_count": 10,
   "id": "aa60aba4",
   "metadata": {
    "execution": {
     "iopub.execute_input": "2022-05-24T19:05:43.316569Z",
     "iopub.status.busy": "2022-05-24T19:05:43.315998Z",
     "iopub.status.idle": "2022-05-24T19:06:01.079486Z",
     "shell.execute_reply": "2022-05-24T19:06:01.078702Z"
    },
    "papermill": {
     "duration": 17.788719,
     "end_time": "2022-05-24T19:06:01.082030",
     "exception": false,
     "start_time": "2022-05-24T19:05:43.293311",
     "status": "completed"
    },
    "tags": []
   },
   "outputs": [
    {
     "name": "stdout",
     "output_type": "stream",
     "text": [
      "No.of unique tokens === 232838\n"
     ]
    }
   ],
   "source": [
    "max_sequence_length = 300\n",
    "vector_size = 300\n",
    "\n",
    "tokenizer = Tokenizer()\n",
    "tokenizer.fit_on_texts(X_train.text)\n",
    "unique_tokens = tokenizer.word_index\n",
    "tokens_size = len(unique_tokens)\n",
    "print('No.of unique tokens === %s'%tokens_size)"
   ]
  },
  {
   "cell_type": "code",
   "execution_count": 11,
   "id": "917dcbd2",
   "metadata": {
    "execution": {
     "iopub.execute_input": "2022-05-24T19:06:01.128655Z",
     "iopub.status.busy": "2022-05-24T19:06:01.128051Z",
     "iopub.status.idle": "2022-05-24T19:06:21.691234Z",
     "shell.execute_reply": "2022-05-24T19:06:21.690488Z"
    },
    "papermill": {
     "duration": 20.589077,
     "end_time": "2022-05-24T19:06:21.693588",
     "exception": false,
     "start_time": "2022-05-24T19:06:01.104511",
     "status": "completed"
    },
    "tags": []
   },
   "outputs": [],
   "source": [
    "X_train_padded = tokenizer.texts_to_sequences(X_train.text)\n",
    "X_train_padded = pad_sequences(X_train_padded,maxlen=max_sequence_length)\n"
   ]
  },
  {
   "cell_type": "code",
   "execution_count": 12,
   "id": "2e9a886e",
   "metadata": {
    "execution": {
     "iopub.execute_input": "2022-05-24T19:06:21.739118Z",
     "iopub.status.busy": "2022-05-24T19:06:21.738907Z",
     "iopub.status.idle": "2022-05-24T19:06:22.096307Z",
     "shell.execute_reply": "2022-05-24T19:06:22.095443Z"
    },
    "papermill": {
     "duration": 0.383418,
     "end_time": "2022-05-24T19:06:22.099406",
     "exception": false,
     "start_time": "2022-05-24T19:06:21.715988",
     "status": "completed"
    },
    "tags": []
   },
   "outputs": [
    {
     "name": "stdout",
     "output_type": "stream",
     "text": [
      "vector matrix shape ===  (232839, 300)\n"
     ]
    },
    {
     "data": {
      "text/plain": [
       "array([[ 0.        ,  0.        ,  0.        , ...,  0.        ,\n",
       "         0.        ,  0.        ],\n",
       "       [ 0.43579736, -1.47396076,  0.80027717, ...,  0.6216504 ,\n",
       "        -0.76271611,  0.6438216 ],\n",
       "       [ 0.03825784, -0.72220367,  0.00823147, ...,  0.64718181,\n",
       "        -0.20368448,  0.26814115],\n",
       "       ...,\n",
       "       [ 0.        ,  0.        ,  0.        , ...,  0.        ,\n",
       "         0.        ,  0.        ],\n",
       "       [ 0.        ,  0.        ,  0.        , ...,  0.        ,\n",
       "         0.        ,  0.        ],\n",
       "       [ 0.        ,  0.        ,  0.        , ...,  0.        ,\n",
       "         0.        ,  0.        ]])"
      ]
     },
     "execution_count": 12,
     "metadata": {},
     "output_type": "execute_result"
    }
   ],
   "source": [
    "vector_matrix = np.zeros((tokens_size+1,w2v_size))\n",
    "\n",
    "for word,i in tokenizer.word_index.items():\n",
    "    if word in word2vec_model.wv:\n",
    "        vector_matrix[i]=word2vec_model.wv[word]\n",
    "\n",
    "print('vector matrix shape === ',vector_matrix.shape)\n",
    "\n",
    "vector_matrix"
   ]
  },
  {
   "cell_type": "code",
   "execution_count": 13,
   "id": "51db036d",
   "metadata": {
    "execution": {
     "iopub.execute_input": "2022-05-24T19:06:22.147282Z",
     "iopub.status.busy": "2022-05-24T19:06:22.146976Z",
     "iopub.status.idle": "2022-05-24T19:06:25.983338Z",
     "shell.execute_reply": "2022-05-24T19:06:25.982573Z"
    },
    "papermill": {
     "duration": 3.862055,
     "end_time": "2022-05-24T19:06:25.985547",
     "exception": false,
     "start_time": "2022-05-24T19:06:22.123492",
     "status": "completed"
    },
    "tags": []
   },
   "outputs": [
    {
     "name": "stderr",
     "output_type": "stream",
     "text": [
      "2022-05-24 19:06:22.239806: I tensorflow/stream_executor/cuda/cuda_gpu_executor.cc:937] successful NUMA node read from SysFS had negative value (-1), but there must be at least one NUMA node, so returning NUMA node zero\n",
      "2022-05-24 19:06:22.601338: I tensorflow/stream_executor/cuda/cuda_gpu_executor.cc:937] successful NUMA node read from SysFS had negative value (-1), but there must be at least one NUMA node, so returning NUMA node zero\n",
      "2022-05-24 19:06:22.602159: I tensorflow/stream_executor/cuda/cuda_gpu_executor.cc:937] successful NUMA node read from SysFS had negative value (-1), but there must be at least one NUMA node, so returning NUMA node zero\n",
      "2022-05-24 19:06:22.603995: I tensorflow/core/platform/cpu_feature_guard.cc:142] This TensorFlow binary is optimized with oneAPI Deep Neural Network Library (oneDNN) to use the following CPU instructions in performance-critical operations:  AVX2 AVX512F FMA\n",
      "To enable them in other operations, rebuild TensorFlow with the appropriate compiler flags.\n",
      "2022-05-24 19:06:22.604250: I tensorflow/stream_executor/cuda/cuda_gpu_executor.cc:937] successful NUMA node read from SysFS had negative value (-1), but there must be at least one NUMA node, so returning NUMA node zero\n",
      "2022-05-24 19:06:22.604981: I tensorflow/stream_executor/cuda/cuda_gpu_executor.cc:937] successful NUMA node read from SysFS had negative value (-1), but there must be at least one NUMA node, so returning NUMA node zero\n",
      "2022-05-24 19:06:22.605595: I tensorflow/stream_executor/cuda/cuda_gpu_executor.cc:937] successful NUMA node read from SysFS had negative value (-1), but there must be at least one NUMA node, so returning NUMA node zero\n",
      "2022-05-24 19:06:25.125809: I tensorflow/stream_executor/cuda/cuda_gpu_executor.cc:937] successful NUMA node read from SysFS had negative value (-1), but there must be at least one NUMA node, so returning NUMA node zero\n",
      "2022-05-24 19:06:25.126613: I tensorflow/stream_executor/cuda/cuda_gpu_executor.cc:937] successful NUMA node read from SysFS had negative value (-1), but there must be at least one NUMA node, so returning NUMA node zero\n",
      "2022-05-24 19:06:25.127386: I tensorflow/stream_executor/cuda/cuda_gpu_executor.cc:937] successful NUMA node read from SysFS had negative value (-1), but there must be at least one NUMA node, so returning NUMA node zero\n",
      "2022-05-24 19:06:25.128895: I tensorflow/core/common_runtime/gpu/gpu_device.cc:1510] Created device /job:localhost/replica:0/task:0/device:GPU:0 with 15403 MB memory:  -> device: 0, name: Tesla P100-PCIE-16GB, pci bus id: 0000:00:04.0, compute capability: 6.0\n"
     ]
    }
   ],
   "source": [
    "cnn_model = Sequential()\n",
    "cnn_model.add(Embedding(tokens_size+1,w2v_size, weights=[vector_matrix],input_length=max_sequence_length,trainable=False))\n",
    "cnn_model.add(Dropout(0.3))\n",
    "cnn_model.add(Conv1D(300,3,activation='relu'))\n",
    "# we use max pooling:\n",
    "cnn_model.add(GlobalMaxPooling1D())\n",
    "cnn_model.add(Dense(200, activation='sigmoid'))\n",
    "cnn_model.add(Dropout(0.3))\n",
    "cnn_model.add(Dense(1, activation='sigmoid'))"
   ]
  },
  {
   "cell_type": "code",
   "execution_count": 14,
   "id": "94796edf",
   "metadata": {
    "execution": {
     "iopub.execute_input": "2022-05-24T19:06:26.034447Z",
     "iopub.status.busy": "2022-05-24T19:06:26.033851Z",
     "iopub.status.idle": "2022-05-24T19:06:26.045254Z",
     "shell.execute_reply": "2022-05-24T19:06:26.044688Z"
    },
    "papermill": {
     "duration": 0.037375,
     "end_time": "2022-05-24T19:06:26.046876",
     "exception": false,
     "start_time": "2022-05-24T19:06:26.009501",
     "status": "completed"
    },
    "tags": []
   },
   "outputs": [],
   "source": [
    "cnn_model.compile(loss='binary_crossentropy',optimizer='adam',metrics=['accuracy'])"
   ]
  },
  {
   "cell_type": "code",
   "execution_count": 15,
   "id": "e8a79174",
   "metadata": {
    "execution": {
     "iopub.execute_input": "2022-05-24T19:06:26.094058Z",
     "iopub.status.busy": "2022-05-24T19:06:26.093863Z",
     "iopub.status.idle": "2022-05-24T19:06:26.097668Z",
     "shell.execute_reply": "2022-05-24T19:06:26.096891Z"
    },
    "papermill": {
     "duration": 0.029707,
     "end_time": "2022-05-24T19:06:26.099657",
     "exception": false,
     "start_time": "2022-05-24T19:06:26.069950",
     "status": "completed"
    },
    "tags": []
   },
   "outputs": [],
   "source": [
    "callbacks = [ReduceLROnPlateau(monitor='val_loss',patience=5,cooldown=0),\n",
    "            EarlyStopping(monitor='val_accuracy',min_delta=1e-4,patience=5)]\n",
    "\n",
    "bs = 1024"
   ]
  },
  {
   "cell_type": "code",
   "execution_count": 16,
   "id": "43dfa6d1",
   "metadata": {
    "execution": {
     "iopub.execute_input": "2022-05-24T19:06:26.147622Z",
     "iopub.status.busy": "2022-05-24T19:06:26.147437Z",
     "iopub.status.idle": "2022-05-24T19:16:07.682221Z",
     "shell.execute_reply": "2022-05-24T19:16:07.681436Z"
    },
    "papermill": {
     "duration": 581.563825,
     "end_time": "2022-05-24T19:16:07.686755",
     "exception": false,
     "start_time": "2022-05-24T19:06:26.122930",
     "status": "completed"
    },
    "tags": []
   },
   "outputs": [
    {
     "name": "stderr",
     "output_type": "stream",
     "text": [
      "2022-05-24 19:06:26.152802: W tensorflow/core/framework/cpu_allocator_impl.cc:80] Allocation of 1382400000 exceeds 10% of free system memory.\n",
      "2022-05-24 19:06:27.250539: I tensorflow/compiler/mlir/mlir_graph_optimization_pass.cc:185] None of the MLIR Optimization Passes are enabled (registered 2)\n"
     ]
    },
    {
     "name": "stdout",
     "output_type": "stream",
     "text": [
      "Epoch 1/5\n"
     ]
    },
    {
     "name": "stderr",
     "output_type": "stream",
     "text": [
      "2022-05-24 19:06:28.729359: I tensorflow/stream_executor/cuda/cuda_dnn.cc:369] Loaded cuDNN version 8005\n"
     ]
    },
    {
     "name": "stdout",
     "output_type": "stream",
     "text": [
      "1125/1125 [==============================] - 123s 102ms/step - loss: 0.4951 - accuracy: 0.7565 - val_loss: 0.4659 - val_accuracy: 0.7761\n",
      "Epoch 2/5\n",
      "1125/1125 [==============================] - 115s 102ms/step - loss: 0.4728 - accuracy: 0.7719 - val_loss: 0.4603 - val_accuracy: 0.7797\n",
      "Epoch 3/5\n",
      "1125/1125 [==============================] - 114s 101ms/step - loss: 0.4650 - accuracy: 0.7772 - val_loss: 0.4569 - val_accuracy: 0.7811\n",
      "Epoch 4/5\n",
      "1125/1125 [==============================] - 113s 101ms/step - loss: 0.4597 - accuracy: 0.7801 - val_loss: 0.4551 - val_accuracy: 0.7829\n",
      "Epoch 5/5\n",
      "1125/1125 [==============================] - 115s 102ms/step - loss: 0.4554 - accuracy: 0.7824 - val_loss: 0.4545 - val_accuracy: 0.7834\n"
     ]
    }
   ],
   "source": [
    "cnn_history = cnn_model.fit(X_train_padded,y_train,batch_size = bs, epochs=5,validation_split=0.1,verbose=1,callbacks=callbacks)"
   ]
  },
  {
   "cell_type": "code",
   "execution_count": 17,
   "id": "be47ad75",
   "metadata": {
    "execution": {
     "iopub.execute_input": "2022-05-24T19:16:11.217487Z",
     "iopub.status.busy": "2022-05-24T19:16:11.217190Z",
     "iopub.status.idle": "2022-05-24T19:16:11.757633Z",
     "shell.execute_reply": "2022-05-24T19:16:11.756847Z"
    },
    "papermill": {
     "duration": 2.302577,
     "end_time": "2022-05-24T19:16:11.760024",
     "exception": false,
     "start_time": "2022-05-24T19:16:09.457447",
     "status": "completed"
    },
    "tags": []
   },
   "outputs": [],
   "source": [
    "cnn_model.save('main_CNN_model.h5')\n",
    "with open('main_CNN_history', 'wb') as file_pi:\n",
    "    pickle.dump(cnn_history.history, file_pi)"
   ]
  },
  {
   "cell_type": "code",
   "execution_count": 18,
   "id": "57069946",
   "metadata": {
    "execution": {
     "iopub.execute_input": "2022-05-24T19:16:15.339154Z",
     "iopub.status.busy": "2022-05-24T19:16:15.338524Z",
     "iopub.status.idle": "2022-05-24T19:16:41.221421Z",
     "shell.execute_reply": "2022-05-24T19:16:41.220445Z"
    },
    "papermill": {
     "duration": 27.708339,
     "end_time": "2022-05-24T19:16:41.224033",
     "exception": false,
     "start_time": "2022-05-24T19:16:13.515694",
     "status": "completed"
    },
    "tags": []
   },
   "outputs": [
    {
     "name": "stdout",
     "output_type": "stream",
     "text": [
      "625/625 [==============================] - 10s 16ms/step - loss: 0.4525 - accuracy: 0.7842\n",
      "ACCURACY: 0.7842093706130981\n",
      "LOSS: 0.45248207449913025\n"
     ]
    }
   ],
   "source": [
    "X_test_padded = tokenizer.texts_to_sequences(X_test.text)\n",
    "X_test_padded = pad_sequences(X_test_padded, maxlen=max_sequence_length)\n",
    "score = cnn_model.evaluate(X_test_padded, y_test, batch_size=512)\n",
    "print(\"ACCURACY:\",score[1])\n",
    "print(\"LOSS:\",score[0])"
   ]
  },
  {
   "cell_type": "code",
   "execution_count": 19,
   "id": "adc6d3ba",
   "metadata": {
    "execution": {
     "iopub.execute_input": "2022-05-24T19:16:44.948266Z",
     "iopub.status.busy": "2022-05-24T19:16:44.948003Z",
     "iopub.status.idle": "2022-05-24T19:16:45.427287Z",
     "shell.execute_reply": "2022-05-24T19:16:45.426580Z"
    },
    "papermill": {
     "duration": 2.393612,
     "end_time": "2022-05-24T19:16:45.429108",
     "exception": false,
     "start_time": "2022-05-24T19:16:43.035496",
     "status": "completed"
    },
    "tags": []
   },
   "outputs": [
    {
     "data": {
      "image/png": "[encoded data removed]",
      "text/plain": [
       "<Figure size 432x288 with 1 Axes>"
      ]
     },
     "metadata": {
      "needs_background": "light"
     },
     "output_type": "display_data"
    },
    {
     "data": {
      "image/png": "[encoded data removed]",
      "text/plain": [
       "<Figure size 432x288 with 1 Axes>"
      ]
     },
     "metadata": {
      "needs_background": "light"
     },
     "output_type": "display_data"
    }
   ],
   "source": [
    "acc = cnn_history.history['accuracy']\n",
    "val_acc = cnn_history.history['val_accuracy']\n",
    "loss = cnn_history.history['loss']\n",
    "val_loss = cnn_history.history['val_loss']\n",
    " \n",
    "epochs = range(len(acc))\n",
    " \n",
    "plt.plot(epochs, acc, 'b', label='Training acc')\n",
    "plt.plot(epochs, val_acc, 'r', label='Validation acc')\n",
    "plt.title('Training and validation accuracy')\n",
    "plt.legend()\n",
    " \n",
    "plt.figure()\n",
    " \n",
    "plt.plot(epochs, loss, 'b', label='Training loss')\n",
    "plt.plot(epochs, val_loss, 'r', label='Validation loss')\n",
    "plt.title('Training and validation loss')\n",
    "plt.legend()\n",
    " \n",
    "plt.show(block=False)"
   ]
  },
  {
   "cell_type": "code",
   "execution_count": 20,
   "id": "86b33b2d",
   "metadata": {
    "execution": {
     "iopub.execute_input": "2022-05-24T19:16:49.328496Z",
     "iopub.status.busy": "2022-05-24T19:16:49.328244Z",
     "iopub.status.idle": "2022-05-24T19:16:50.561659Z",
     "shell.execute_reply": "2022-05-24T19:16:50.560741Z"
    },
    "papermill": {
     "duration": 3.138749,
     "end_time": "2022-05-24T19:16:50.565065",
     "exception": false,
     "start_time": "2022-05-24T19:16:47.426316",
     "status": "completed"
    },
    "tags": []
   },
   "outputs": [
    {
     "data": {
      "image/png": "[encoded data removed]",
      "text/plain": [
       "<IPython.core.display.Image object>"
      ]
     },
     "execution_count": 20,
     "metadata": {},
     "output_type": "execute_result"
    }
   ],
   "source": [
    "from keras.utils.vis_utils import plot_model\n",
    "\n",
    "plot_model(cnn_model,to_file='cnn_model.png',show_layer_names=True, show_shapes=True)"
   ]
  },
  {
   "cell_type": "code",
   "execution_count": 21,
   "id": "a3999649",
   "metadata": {
    "execution": {
     "iopub.execute_input": "2022-05-24T19:16:54.469870Z",
     "iopub.status.busy": "2022-05-24T19:16:54.469025Z",
     "iopub.status.idle": "2022-05-24T19:16:54.476568Z",
     "shell.execute_reply": "2022-05-24T19:16:54.475750Z"
    },
    "papermill": {
     "duration": 1.900797,
     "end_time": "2022-05-24T19:16:54.479903",
     "exception": false,
     "start_time": "2022-05-24T19:16:52.579106",
     "status": "completed"
    },
    "tags": []
   },
   "outputs": [],
   "source": [
    "def predict(text, include_neutral=True):\n",
    "    # Tokenize text\n",
    "    x_test = pad_sequences(tokenizer.texts_to_sequences([text]), maxlen=max_sequence_length)\n",
    "    # Predict\n",
    "    score = cnn_model.predict([x_test])[0]\n",
    "    if(score >=0.50):\n",
    "        label = \"Positive\"\n",
    "    if(score <0.50):\n",
    "        label = \"Negative\"\n",
    "\n",
    "    return {\"label\" : label,\n",
    "        \"score\": float(score)}  "
   ]
  },
  {
   "cell_type": "code",
   "execution_count": 22,
   "id": "e1e2ccd5",
   "metadata": {
    "execution": {
     "iopub.execute_input": "2022-05-24T19:16:58.214173Z",
     "iopub.status.busy": "2022-05-24T19:16:58.213921Z",
     "iopub.status.idle": "2022-05-24T19:16:58.352355Z",
     "shell.execute_reply": "2022-05-24T19:16:58.351557Z"
    },
    "papermill": {
     "duration": 2.012382,
     "end_time": "2022-05-24T19:16:58.354306",
     "exception": false,
     "start_time": "2022-05-24T19:16:56.341924",
     "status": "completed"
    },
    "tags": []
   },
   "outputs": [
    {
     "data": {
      "text/plain": [
       "{'label': 'Negative', 'score': 0.40346255898475647}"
      ]
     },
     "execution_count": 22,
     "metadata": {},
     "output_type": "execute_result"
    }
   ],
   "source": [
    "predict(\"You are a disgusting person and a ugly looking man\")"
   ]
  },
  {
   "cell_type": "code",
   "execution_count": null,
   "id": "37886aab",
   "metadata": {
    "papermill": {
     "duration": 2.670819,
     "end_time": "2022-05-24T19:17:02.862291",
     "exception": false,
     "start_time": "2022-05-24T19:17:00.191472",
     "status": "completed"
    },
    "tags": []
   },
   "outputs": [],
   "source": []
  }
 ],
 "metadata": {
  "kernelspec": {
   "display_name": "Python 3",
   "language": "python",
   "name": "python3"
  },
  "language_info": {
   "codemirror_mode": {
    "name": "ipython",
    "version": 3
   },
   "file_extension": ".py",
   "mimetype": "text/x-python",
   "name": "python",
   "nbconvert_exporter": "python",
   "pygments_lexer": "ipython3",
   "version": "3.7.12"
  },
  "papermill": {
   "default_parameters": {},
   "duration": 2017.55199,
   "end_time": "2022-05-24T19:17:07.394982",
   "environment_variables": {},
   "exception": null,
   "input_path": "__notebook__.ipynb",
   "output_path": "__notebook__.ipynb",
   "parameters": {},
   "start_time": "2022-05-24T18:43:29.842992",
   "version": "2.3.4"
  }
 },
 "nbformat": 4,
 "nbformat_minor": 5
}
