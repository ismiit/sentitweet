{
 "cells": [
  {
   "cell_type": "code",
   "execution_count": 1,
   "id": "a5f49d1e",
   "metadata": {
    "_cell_guid": "b1076dfc-b9ad-4769-8c92-a6c4dae69d19",
    "_uuid": "8f2839f25d086af736a60e9eeb907d3b93b6e0e5",
    "execution": {
     "iopub.execute_input": "2022-05-24T22:14:40.693805Z",
     "iopub.status.busy": "2022-05-24T22:14:40.693509Z",
     "iopub.status.idle": "2022-05-24T22:14:40.710408Z",
     "shell.execute_reply": "2022-05-24T22:14:40.709752Z"
    },
    "papermill": {
     "duration": 0.046376,
     "end_time": "2022-05-24T22:14:40.713108",
     "exception": false,
     "start_time": "2022-05-24T22:14:40.666732",
     "status": "completed"
    },
    "tags": []
   },
   "outputs": [
    {
     "name": "stdout",
     "output_type": "stream",
     "text": [
      "/kaggle/input/sentiment140/training.1600000.processed.noemoticon.csv\n"
     ]
    }
   ],
   "source": [
    "# This Python 3 environment comes with many helpful analytics libraries installed\n",
    "# It is defined by the kaggle/python Docker image: https://github.com/kaggle/docker-python\n",
    "# For example, here's several helpful packages to load\n",
    "\n",
    "import numpy as np # linear algebra\n",
    "import pandas as pd # data processing, CSV file I/O (e.g. pd.read_csv)\n",
    "\n",
    "# Input data files are available in the read-only \"../input/\" directory\n",
    "# For example, running this (by clicking run or pressing Shift+Enter) will list all files under the input directory\n",
    "\n",
    "import os\n",
    "for dirname, _, filenames in os.walk('/kaggle/input'):\n",
    "    for filename in filenames:\n",
    "        print(os.path.join(dirname, filename))\n",
    "\n",
    "# You can write up to 20GB to the current directory (/kaggle/working/) that gets preserved as output when you create a version using \"Save & Run All\" \n",
    "# You can also write temporary files to /kaggle/temp/, but they won't be saved outside of the current session"
   ]
  },
  {
   "cell_type": "code",
   "execution_count": 2,
   "id": "d39f2b87",
   "metadata": {
    "execution": {
     "iopub.execute_input": "2022-05-24T22:14:40.761744Z",
     "iopub.status.busy": "2022-05-24T22:14:40.761300Z",
     "iopub.status.idle": "2022-05-24T22:14:47.131480Z",
     "shell.execute_reply": "2022-05-24T22:14:47.130738Z"
    },
    "papermill": {
     "duration": 6.395922,
     "end_time": "2022-05-24T22:14:47.133595",
     "exception": false,
     "start_time": "2022-05-24T22:14:40.737673",
     "status": "completed"
    },
    "tags": []
   },
   "outputs": [],
   "source": [
    "import numpy as np\n",
    "import pandas as pd\n",
    "import re\n",
    "import string\n",
    "import nltk\n",
    "import gensim\n",
    "import pickle\n",
    "import matplotlib.pyplot as plt\n",
    "from nltk.tokenize import word_tokenize\n",
    "from nltk.corpus import stopwords\n",
    "from nltk.stem.wordnet import WordNetLemmatizer\n",
    "from nltk.corpus import stopwords\n",
    "from nltk.corpus import stopwords\n",
    "from nltk import punkt\n",
    "from nltk import wordnet\n",
    "\n",
    "from sklearn.model_selection import train_test_split\n",
    "\n",
    "from keras.preprocessing.text import Tokenizer\n",
    "from keras.preprocessing.sequence import pad_sequences\n",
    "from keras.models import Sequential\n",
    "from keras.layers import Dense, Embedding, LSTM, Dropout, GRU, Bidirectional, Conv1D, GlobalMaxPooling1D,Flatten\n",
    "from keras.utils.np_utils import to_categorical\n",
    "from keras.callbacks import ReduceLROnPlateau, EarlyStopping"
   ]
  },
  {
   "cell_type": "code",
   "execution_count": 3,
   "id": "f6c220e8",
   "metadata": {
    "execution": {
     "iopub.execute_input": "2022-05-24T22:14:47.182169Z",
     "iopub.status.busy": "2022-05-24T22:14:47.181600Z",
     "iopub.status.idle": "2022-05-24T22:14:52.775893Z",
     "shell.execute_reply": "2022-05-24T22:14:52.775148Z"
    },
    "papermill": {
     "duration": 5.620517,
     "end_time": "2022-05-24T22:14:52.777996",
     "exception": false,
     "start_time": "2022-05-24T22:14:47.157479",
     "status": "completed"
    },
    "tags": []
   },
   "outputs": [],
   "source": [
    "data_columns = [\"target\", \"ids\", \"date\", \"flag\", \"user\", \"text\"]\n",
    "data_encoding = \"ISO-8859-1\"\n",
    "data=pd.read_csv('/kaggle/input/sentiment140/training.1600000.processed.noemoticon.csv',encoding = data_encoding, names=data_columns)"
   ]
  },
  {
   "cell_type": "code",
   "execution_count": 4,
   "id": "9ecd93f6",
   "metadata": {
    "execution": {
     "iopub.execute_input": "2022-05-24T22:14:52.827006Z",
     "iopub.status.busy": "2022-05-24T22:14:52.826797Z",
     "iopub.status.idle": "2022-05-24T22:14:52.890890Z",
     "shell.execute_reply": "2022-05-24T22:14:52.890057Z"
    },
    "papermill": {
     "duration": 0.090823,
     "end_time": "2022-05-24T22:14:52.892885",
     "exception": false,
     "start_time": "2022-05-24T22:14:52.802062",
     "status": "completed"
    },
    "tags": []
   },
   "outputs": [
    {
     "data": {
      "text/html": [
       "<div>\n",
       "<style scoped>\n",
       "    .dataframe tbody tr th:only-of-type {\n",
       "        vertical-align: middle;\n",
       "    }\n",
       "\n",
       "    .dataframe tbody tr th {\n",
       "        vertical-align: top;\n",
       "    }\n",
       "\n",
       "    .dataframe thead th {\n",
       "        text-align: right;\n",
       "    }\n",
       "</style>\n",
       "<table border=\"1\" class=\"dataframe\">\n",
       "  <thead>\n",
       "    <tr style=\"text-align: right;\">\n",
       "      <th></th>\n",
       "      <th>target</th>\n",
       "      <th>ids</th>\n",
       "      <th>date</th>\n",
       "      <th>flag</th>\n",
       "      <th>user</th>\n",
       "      <th>text</th>\n",
       "    </tr>\n",
       "  </thead>\n",
       "  <tbody>\n",
       "    <tr>\n",
       "      <th>17623</th>\n",
       "      <td>0</td>\n",
       "      <td>1556351927</td>\n",
       "      <td>Sat Apr 18 22:30:36 PDT 2009</td>\n",
       "      <td>NO_QUERY</td>\n",
       "      <td>suzieqtx81</td>\n",
       "      <td>having trouble sleeping tonight for some reason.</td>\n",
       "    </tr>\n",
       "    <tr>\n",
       "      <th>343750</th>\n",
       "      <td>0</td>\n",
       "      <td>2015526105</td>\n",
       "      <td>Wed Jun 03 04:53:42 PDT 2009</td>\n",
       "      <td>NO_QUERY</td>\n",
       "      <td>shycai</td>\n",
       "      <td>i wanna run  i need the exercise... anybody wa...</td>\n",
       "    </tr>\n",
       "    <tr>\n",
       "      <th>431477</th>\n",
       "      <td>0</td>\n",
       "      <td>2064551049</td>\n",
       "      <td>Sun Jun 07 06:34:28 PDT 2009</td>\n",
       "      <td>NO_QUERY</td>\n",
       "      <td>leahmstafford</td>\n",
       "      <td>@bobbiandmike i have a chair i bought @ a rumm...</td>\n",
       "    </tr>\n",
       "    <tr>\n",
       "      <th>946559</th>\n",
       "      <td>4</td>\n",
       "      <td>1822722853</td>\n",
       "      <td>Sat May 16 20:14:05 PDT 2009</td>\n",
       "      <td>NO_QUERY</td>\n",
       "      <td>thiswasandy</td>\n",
       "      <td>Listening to some new music by Michael Warren,...</td>\n",
       "    </tr>\n",
       "    <tr>\n",
       "      <th>294848</th>\n",
       "      <td>0</td>\n",
       "      <td>1996708184</td>\n",
       "      <td>Mon Jun 01 15:32:59 PDT 2009</td>\n",
       "      <td>NO_QUERY</td>\n",
       "      <td>swallow_elxsol</td>\n",
       "      <td>im taking a nap...  text me if anything is hap...</td>\n",
       "    </tr>\n",
       "  </tbody>\n",
       "</table>\n",
       "</div>"
      ],
      "text/plain": [
       "        target         ids                          date      flag  \\\n",
       "17623        0  1556351927  Sat Apr 18 22:30:36 PDT 2009  NO_QUERY   \n",
       "343750       0  2015526105  Wed Jun 03 04:53:42 PDT 2009  NO_QUERY   \n",
       "431477       0  2064551049  Sun Jun 07 06:34:28 PDT 2009  NO_QUERY   \n",
       "946559       4  1822722853  Sat May 16 20:14:05 PDT 2009  NO_QUERY   \n",
       "294848       0  1996708184  Mon Jun 01 15:32:59 PDT 2009  NO_QUERY   \n",
       "\n",
       "                  user                                               text  \n",
       "17623       suzieqtx81  having trouble sleeping tonight for some reason.   \n",
       "343750          shycai  i wanna run  i need the exercise... anybody wa...  \n",
       "431477   leahmstafford  @bobbiandmike i have a chair i bought @ a rumm...  \n",
       "946559     thiswasandy  Listening to some new music by Michael Warren,...  \n",
       "294848  swallow_elxsol  im taking a nap...  text me if anything is hap...  "
      ]
     },
     "execution_count": 4,
     "metadata": {},
     "output_type": "execute_result"
    }
   ],
   "source": [
    "data.sample(5)"
   ]
  },
  {
   "cell_type": "code",
   "execution_count": 5,
   "id": "5c4f7af3",
   "metadata": {
    "execution": {
     "iopub.execute_input": "2022-05-24T22:14:52.949016Z",
     "iopub.status.busy": "2022-05-24T22:14:52.948792Z",
     "iopub.status.idle": "2022-05-24T22:14:53.538634Z",
     "shell.execute_reply": "2022-05-24T22:14:53.537811Z"
    },
    "papermill": {
     "duration": 0.620589,
     "end_time": "2022-05-24T22:14:53.540441",
     "exception": false,
     "start_time": "2022-05-24T22:14:52.919852",
     "status": "completed"
    },
    "tags": []
   },
   "outputs": [
    {
     "data": {
      "text/plain": [
       "target    0\n",
       "ids       0\n",
       "date      0\n",
       "flag      0\n",
       "user      0\n",
       "text      0\n",
       "dtype: int64"
      ]
     },
     "execution_count": 5,
     "metadata": {},
     "output_type": "execute_result"
    }
   ],
   "source": [
    "data.isna().sum()"
   ]
  },
  {
   "cell_type": "code",
   "execution_count": 6,
   "id": "66279e70",
   "metadata": {
    "execution": {
     "iopub.execute_input": "2022-05-24T22:14:53.589646Z",
     "iopub.status.busy": "2022-05-24T22:14:53.589444Z",
     "iopub.status.idle": "2022-05-24T22:14:53.615385Z",
     "shell.execute_reply": "2022-05-24T22:14:53.614749Z"
    },
    "papermill": {
     "duration": 0.052372,
     "end_time": "2022-05-24T22:14:53.617055",
     "exception": false,
     "start_time": "2022-05-24T22:14:53.564683",
     "status": "completed"
    },
    "tags": []
   },
   "outputs": [],
   "source": [
    "X = data.iloc[:,[5]]\n",
    "y = data.iloc[:,0]"
   ]
  },
  {
   "cell_type": "code",
   "execution_count": 7,
   "id": "4a886fdb",
   "metadata": {
    "execution": {
     "iopub.execute_input": "2022-05-24T22:14:53.666152Z",
     "iopub.status.busy": "2022-05-24T22:14:53.665947Z",
     "iopub.status.idle": "2022-05-24T22:14:53.682716Z",
     "shell.execute_reply": "2022-05-24T22:14:53.681963Z"
    },
    "papermill": {
     "duration": 0.043341,
     "end_time": "2022-05-24T22:14:53.684463",
     "exception": false,
     "start_time": "2022-05-24T22:14:53.641122",
     "status": "completed"
    },
    "tags": []
   },
   "outputs": [
    {
     "name": "stderr",
     "output_type": "stream",
     "text": [
      "/opt/conda/lib/python3.7/site-packages/ipykernel_launcher.py:1: SettingWithCopyWarning: \n",
      "A value is trying to be set on a copy of a slice from a DataFrame\n",
      "\n",
      "See the caveats in the documentation: https://pandas.pydata.org/pandas-docs/stable/user_guide/indexing.html#returning-a-view-versus-a-copy\n",
      "  \"\"\"Entry point for launching an IPython kernel.\n"
     ]
    }
   ],
   "source": [
    "y[y==4]=1"
   ]
  },
  {
   "cell_type": "code",
   "execution_count": 8,
   "id": "b10fbd6f",
   "metadata": {
    "execution": {
     "iopub.execute_input": "2022-05-24T22:14:53.733990Z",
     "iopub.status.busy": "2022-05-24T22:14:53.733804Z",
     "iopub.status.idle": "2022-05-24T22:14:53.742350Z",
     "shell.execute_reply": "2022-05-24T22:14:53.741563Z"
    },
    "papermill": {
     "duration": 0.035634,
     "end_time": "2022-05-24T22:14:53.744256",
     "exception": false,
     "start_time": "2022-05-24T22:14:53.708622",
     "status": "completed"
    },
    "tags": []
   },
   "outputs": [],
   "source": [
    "def repair(tweet):\n",
    "    username = \"@\\S+\"\n",
    "    new_tweet = re.sub(username, ' ',tweet) # Remove @tags\n",
    "    \n",
    "    new_tweet = new_tweet.lower() # Smart lowercase\n",
    "    \n",
    "    new_tweet = re.sub(r'\\d+', ' ', new_tweet) # Remove numbers\n",
    "    \n",
    "    text_noise = \"https?:\\S+|http?:\\S|[^A-Za-z0-9]+\" \n",
    "    new_tweet = re.sub(text_noise, ' ', new_tweet) # Remove links\n",
    "    \n",
    "    new_tweet = new_tweet.translate(new_tweet.maketrans('','',string.punctuation)) # Remove Punctuation\n",
    "    \n",
    "    new_tweet = new_tweet.strip() # Remove white spaces\n",
    "    \n",
    "    new_tweet = word_tokenize(new_tweet) # Tokenize into words\n",
    "    \n",
    "    new_tweet = ' '.join([word for word in new_tweet if word.isalpha()]) # Remove non alphabetic tokens\n",
    "    \n",
    "    stop_words = set(stopwords.words('english'))\n",
    "    new_tweet = ' '.join([word for word in new_tweet.split() if not word in stop_words]) # Filter out stop words\n",
    "    \n",
    "    lemmatizer = WordNetLemmatizer()\n",
    "    new_tweet = ' '.join([lemmatizer.lemmatize(word,\"v\") for word in new_tweet.split()]) # Word Lemmatization\n",
    "    \n",
    "    return new_tweet"
   ]
  },
  {
   "cell_type": "code",
   "execution_count": 9,
   "id": "add6fb6c",
   "metadata": {
    "execution": {
     "iopub.execute_input": "2022-05-24T22:14:53.793797Z",
     "iopub.status.busy": "2022-05-24T22:14:53.793615Z",
     "iopub.status.idle": "2022-05-24T22:25:25.179572Z",
     "shell.execute_reply": "2022-05-24T22:25:25.178833Z"
    },
    "papermill": {
     "duration": 631.437999,
     "end_time": "2022-05-24T22:25:25.206784",
     "exception": false,
     "start_time": "2022-05-24T22:14:53.768785",
     "status": "completed"
    },
    "tags": []
   },
   "outputs": [
    {
     "name": "stderr",
     "output_type": "stream",
     "text": [
      "/opt/conda/lib/python3.7/site-packages/ipykernel_launcher.py:1: SettingWithCopyWarning: \n",
      "A value is trying to be set on a copy of a slice from a DataFrame.\n",
      "Try using .loc[row_indexer,col_indexer] = value instead\n",
      "\n",
      "See the caveats in the documentation: https://pandas.pydata.org/pandas-docs/stable/user_guide/indexing.html#returning-a-view-versus-a-copy\n",
      "  \"\"\"Entry point for launching an IPython kernel.\n"
     ]
    }
   ],
   "source": [
    "X['text']= X['text'].apply(repair)"
   ]
  },
  {
   "cell_type": "code",
   "execution_count": 10,
   "id": "0d8ad056",
   "metadata": {
    "execution": {
     "iopub.execute_input": "2022-05-24T22:25:25.257227Z",
     "iopub.status.busy": "2022-05-24T22:25:25.256612Z",
     "iopub.status.idle": "2022-05-24T22:25:25.487016Z",
     "shell.execute_reply": "2022-05-24T22:25:25.486263Z"
    },
    "papermill": {
     "duration": 0.258286,
     "end_time": "2022-05-24T22:25:25.489574",
     "exception": false,
     "start_time": "2022-05-24T22:25:25.231288",
     "status": "completed"
    },
    "tags": []
   },
   "outputs": [
    {
     "name": "stdout",
     "output_type": "stream",
     "text": [
      "TRAIN size: 1280000\n",
      "TEST size: 320000\n"
     ]
    }
   ],
   "source": [
    "X_train, X_test, y_train, y_test = train_test_split(X, y, test_size=0.2, random_state=42)\n",
    "print(\"TRAIN size:\", len(X_train))\n",
    "print(\"TEST size:\", len(X_test))"
   ]
  },
  {
   "cell_type": "code",
   "execution_count": 11,
   "id": "50cced9b",
   "metadata": {
    "execution": {
     "iopub.execute_input": "2022-05-24T22:25:25.542039Z",
     "iopub.status.busy": "2022-05-24T22:25:25.541494Z",
     "iopub.status.idle": "2022-05-24T22:25:31.657483Z",
     "shell.execute_reply": "2022-05-24T22:25:31.656751Z"
    },
    "papermill": {
     "duration": 6.143951,
     "end_time": "2022-05-24T22:25:31.659530",
     "exception": false,
     "start_time": "2022-05-24T22:25:25.515579",
     "status": "completed"
    },
    "tags": []
   },
   "outputs": [],
   "source": [
    "w2v_size = 300\n",
    "w2v_win = 7\n",
    "w2v_epoch = 32\n",
    "w2v_mincount = 10\n",
    "\n",
    "document = [tweet.split() for tweet in X_train.text]\n",
    "word2vec_model = gensim.models.word2vec.Word2Vec(vector_size=w2v_size,\n",
    "                                                window=w2v_win,\n",
    "                                                min_count=w2v_mincount,\n",
    "                                                workers=8)\n",
    "\n",
    "word2vec_model.build_vocab(document)"
   ]
  },
  {
   "cell_type": "code",
   "execution_count": 12,
   "id": "f36712e7",
   "metadata": {
    "execution": {
     "iopub.execute_input": "2022-05-24T22:25:31.716919Z",
     "iopub.status.busy": "2022-05-24T22:25:31.716530Z",
     "iopub.status.idle": "2022-05-24T22:25:31.720931Z",
     "shell.execute_reply": "2022-05-24T22:25:31.720258Z"
    },
    "papermill": {
     "duration": 0.037763,
     "end_time": "2022-05-24T22:25:31.723684",
     "exception": false,
     "start_time": "2022-05-24T22:25:31.685921",
     "status": "completed"
    },
    "tags": []
   },
   "outputs": [
    {
     "name": "stdout",
     "output_type": "stream",
     "text": [
      "Vocabulary_size :::  25276\n"
     ]
    }
   ],
   "source": [
    "words = word2vec_model.wv.index_to_key\n",
    "vocabulary_size = len(words)\n",
    "print('Vocabulary_size ::: ',vocabulary_size)"
   ]
  },
  {
   "cell_type": "code",
   "execution_count": 13,
   "id": "6e147401",
   "metadata": {
    "execution": {
     "iopub.execute_input": "2022-05-24T22:25:31.778888Z",
     "iopub.status.busy": "2022-05-24T22:25:31.778101Z",
     "iopub.status.idle": "2022-05-24T22:35:20.918804Z",
     "shell.execute_reply": "2022-05-24T22:35:20.918069Z"
    },
    "papermill": {
     "duration": 589.193568,
     "end_time": "2022-05-24T22:35:20.944587",
     "exception": false,
     "start_time": "2022-05-24T22:25:31.751019",
     "status": "completed"
    },
    "tags": []
   },
   "outputs": [
    {
     "data": {
      "text/plain": [
       "(251373403, 289225504)"
      ]
     },
     "execution_count": 13,
     "metadata": {},
     "output_type": "execute_result"
    }
   ],
   "source": [
    "word2vec_model.train(document,total_examples=len(document),epochs=w2v_epoch)"
   ]
  },
  {
   "cell_type": "code",
   "execution_count": 14,
   "id": "6218a29d",
   "metadata": {
    "execution": {
     "iopub.execute_input": "2022-05-24T22:35:20.999925Z",
     "iopub.status.busy": "2022-05-24T22:35:20.999708Z",
     "iopub.status.idle": "2022-05-24T22:35:21.027798Z",
     "shell.execute_reply": "2022-05-24T22:35:21.026947Z"
    },
    "papermill": {
     "duration": 0.059816,
     "end_time": "2022-05-24T22:35:21.031511",
     "exception": false,
     "start_time": "2022-05-24T22:35:20.971695",
     "status": "completed"
    },
    "tags": []
   },
   "outputs": [
    {
     "data": {
      "text/plain": [
       "[('amaze', 0.5868600606918335),\n",
       " ('luv', 0.5584689378738403),\n",
       " ('adore', 0.5458216071128845),\n",
       " ('awesome', 0.5256385207176208),\n",
       " ('looove', 0.4906412363052368),\n",
       " ('loooove', 0.44694218039512634),\n",
       " ('lt', 0.4395308196544647),\n",
       " ('loveee', 0.4329444468021393),\n",
       " ('loveeeee', 0.40848052501678467),\n",
       " ('incredible', 0.4024706184864044)]"
      ]
     },
     "execution_count": 14,
     "metadata": {},
     "output_type": "execute_result"
    }
   ],
   "source": [
    "word2vec_model.wv.most_similar(\"love\")"
   ]
  },
  {
   "cell_type": "code",
   "execution_count": 15,
   "id": "77d291f7",
   "metadata": {
    "execution": {
     "iopub.execute_input": "2022-05-24T22:35:21.135299Z",
     "iopub.status.busy": "2022-05-24T22:35:21.134858Z",
     "iopub.status.idle": "2022-05-24T22:35:21.148025Z",
     "shell.execute_reply": "2022-05-24T22:35:21.147349Z"
    },
    "papermill": {
     "duration": 0.067435,
     "end_time": "2022-05-24T22:35:21.150353",
     "exception": false,
     "start_time": "2022-05-24T22:35:21.082918",
     "status": "completed"
    },
    "tags": []
   },
   "outputs": [
    {
     "data": {
      "text/plain": [
       "[('insignificant', 0.3795170783996582),\n",
       " ('apathy', 0.3228535056114197),\n",
       " ('idiots', 0.3196958005428314),\n",
       " ('emotions', 0.3181428015232086),\n",
       " ('equality', 0.3171066641807556),\n",
       " ('satisfaction', 0.31670475006103516),\n",
       " ('hormones', 0.3156619966030121),\n",
       " ('anger', 0.3151332139968872),\n",
       " ('attitudes', 0.3129337728023529),\n",
       " ('humanity', 0.31014466285705566)]"
      ]
     },
     "execution_count": 15,
     "metadata": {},
     "output_type": "execute_result"
    }
   ],
   "source": [
    "word2vec_model.wv.most_similar(\"hatred\")"
   ]
  },
  {
   "cell_type": "code",
   "execution_count": 16,
   "id": "8f6060ea",
   "metadata": {
    "execution": {
     "iopub.execute_input": "2022-05-24T22:35:21.252080Z",
     "iopub.status.busy": "2022-05-24T22:35:21.251711Z",
     "iopub.status.idle": "2022-05-24T22:35:38.152420Z",
     "shell.execute_reply": "2022-05-24T22:35:38.151654Z"
    },
    "papermill": {
     "duration": 16.954661,
     "end_time": "2022-05-24T22:35:38.155141",
     "exception": false,
     "start_time": "2022-05-24T22:35:21.200480",
     "status": "completed"
    },
    "tags": []
   },
   "outputs": [
    {
     "name": "stdout",
     "output_type": "stream",
     "text": [
      "No.of unique tokens === 232838\n"
     ]
    }
   ],
   "source": [
    "max_sequence_length = 300\n",
    "vector_size = 300\n",
    "\n",
    "tokenizer = Tokenizer()\n",
    "tokenizer.fit_on_texts(X_train.text)\n",
    "unique_tokens = tokenizer.word_index\n",
    "tokens_size = len(unique_tokens)\n",
    "print('No.of unique tokens === %s'%tokens_size)"
   ]
  },
  {
   "cell_type": "code",
   "execution_count": 17,
   "id": "0baf0347",
   "metadata": {
    "execution": {
     "iopub.execute_input": "2022-05-24T22:35:38.214420Z",
     "iopub.status.busy": "2022-05-24T22:35:38.213907Z",
     "iopub.status.idle": "2022-05-24T22:35:58.446240Z",
     "shell.execute_reply": "2022-05-24T22:35:58.445486Z"
    },
    "papermill": {
     "duration": 20.262375,
     "end_time": "2022-05-24T22:35:58.448303",
     "exception": false,
     "start_time": "2022-05-24T22:35:38.185928",
     "status": "completed"
    },
    "tags": []
   },
   "outputs": [],
   "source": [
    "X_train_padded = tokenizer.texts_to_sequences(X_train.text)\n",
    "X_train_padded = pad_sequences(X_train_padded,maxlen=max_sequence_length)\n"
   ]
  },
  {
   "cell_type": "code",
   "execution_count": 18,
   "id": "d5b00bcd",
   "metadata": {
    "execution": {
     "iopub.execute_input": "2022-05-24T22:35:58.503736Z",
     "iopub.status.busy": "2022-05-24T22:35:58.503531Z",
     "iopub.status.idle": "2022-05-24T22:35:58.869035Z",
     "shell.execute_reply": "2022-05-24T22:35:58.868254Z"
    },
    "papermill": {
     "duration": 0.396292,
     "end_time": "2022-05-24T22:35:58.871949",
     "exception": false,
     "start_time": "2022-05-24T22:35:58.475657",
     "status": "completed"
    },
    "tags": []
   },
   "outputs": [
    {
     "name": "stdout",
     "output_type": "stream",
     "text": [
      "vector matrix shape ===  (232839, 300)\n"
     ]
    },
    {
     "data": {
      "text/plain": [
       "array([[ 0.00000000e+00,  0.00000000e+00,  0.00000000e+00, ...,\n",
       "         0.00000000e+00,  0.00000000e+00,  0.00000000e+00],\n",
       "       [ 3.28419626e-01, -8.15595746e-01, -2.76189726e-02, ...,\n",
       "        -4.09158785e-03,  3.22293550e-01,  2.55045772e-01],\n",
       "       [-8.72117747e-03, -5.22340473e-04, -5.74133456e-01, ...,\n",
       "        -3.17462534e-01,  6.18526459e-01, -3.15392107e-01],\n",
       "       ...,\n",
       "       [ 0.00000000e+00,  0.00000000e+00,  0.00000000e+00, ...,\n",
       "         0.00000000e+00,  0.00000000e+00,  0.00000000e+00],\n",
       "       [ 0.00000000e+00,  0.00000000e+00,  0.00000000e+00, ...,\n",
       "         0.00000000e+00,  0.00000000e+00,  0.00000000e+00],\n",
       "       [ 0.00000000e+00,  0.00000000e+00,  0.00000000e+00, ...,\n",
       "         0.00000000e+00,  0.00000000e+00,  0.00000000e+00]])"
      ]
     },
     "execution_count": 18,
     "metadata": {},
     "output_type": "execute_result"
    }
   ],
   "source": [
    "vector_matrix = np.zeros((tokens_size+1,w2v_size))\n",
    "\n",
    "for word,i in tokenizer.word_index.items():\n",
    "    if word in word2vec_model.wv:\n",
    "        vector_matrix[i]=word2vec_model.wv[word]\n",
    "\n",
    "print('vector matrix shape === ',vector_matrix.shape)\n",
    "\n",
    "vector_matrix"
   ]
  },
  {
   "cell_type": "code",
   "execution_count": 19,
   "id": "2cd72f76",
   "metadata": {
    "execution": {
     "iopub.execute_input": "2022-05-24T22:35:58.986236Z",
     "iopub.status.busy": "2022-05-24T22:35:58.985912Z",
     "iopub.status.idle": "2022-05-24T22:36:02.217363Z",
     "shell.execute_reply": "2022-05-24T22:36:02.216584Z"
    },
    "papermill": {
     "duration": 3.288476,
     "end_time": "2022-05-24T22:36:02.219426",
     "exception": false,
     "start_time": "2022-05-24T22:35:58.930950",
     "status": "completed"
    },
    "tags": []
   },
   "outputs": [
    {
     "name": "stderr",
     "output_type": "stream",
     "text": [
      "2022-05-24 22:35:59.087314: I tensorflow/stream_executor/cuda/cuda_gpu_executor.cc:937] successful NUMA node read from SysFS had negative value (-1), but there must be at least one NUMA node, so returning NUMA node zero\n",
      "2022-05-24 22:35:59.199203: I tensorflow/stream_executor/cuda/cuda_gpu_executor.cc:937] successful NUMA node read from SysFS had negative value (-1), but there must be at least one NUMA node, so returning NUMA node zero\n",
      "2022-05-24 22:35:59.200281: I tensorflow/stream_executor/cuda/cuda_gpu_executor.cc:937] successful NUMA node read from SysFS had negative value (-1), but there must be at least one NUMA node, so returning NUMA node zero\n",
      "2022-05-24 22:35:59.202607: I tensorflow/core/platform/cpu_feature_guard.cc:142] This TensorFlow binary is optimized with oneAPI Deep Neural Network Library (oneDNN) to use the following CPU instructions in performance-critical operations:  AVX2 AVX512F FMA\n",
      "To enable them in other operations, rebuild TensorFlow with the appropriate compiler flags.\n",
      "2022-05-24 22:35:59.202890: I tensorflow/stream_executor/cuda/cuda_gpu_executor.cc:937] successful NUMA node read from SysFS had negative value (-1), but there must be at least one NUMA node, so returning NUMA node zero\n",
      "2022-05-24 22:35:59.203871: I tensorflow/stream_executor/cuda/cuda_gpu_executor.cc:937] successful NUMA node read from SysFS had negative value (-1), but there must be at least one NUMA node, so returning NUMA node zero\n",
      "2022-05-24 22:35:59.204900: I tensorflow/stream_executor/cuda/cuda_gpu_executor.cc:937] successful NUMA node read from SysFS had negative value (-1), but there must be at least one NUMA node, so returning NUMA node zero\n",
      "2022-05-24 22:36:01.133119: I tensorflow/stream_executor/cuda/cuda_gpu_executor.cc:937] successful NUMA node read from SysFS had negative value (-1), but there must be at least one NUMA node, so returning NUMA node zero\n",
      "2022-05-24 22:36:01.134013: I tensorflow/stream_executor/cuda/cuda_gpu_executor.cc:937] successful NUMA node read from SysFS had negative value (-1), but there must be at least one NUMA node, so returning NUMA node zero\n",
      "2022-05-24 22:36:01.134791: I tensorflow/stream_executor/cuda/cuda_gpu_executor.cc:937] successful NUMA node read from SysFS had negative value (-1), but there must be at least one NUMA node, so returning NUMA node zero\n",
      "2022-05-24 22:36:01.136234: I tensorflow/core/common_runtime/gpu/gpu_device.cc:1510] Created device /job:localhost/replica:0/task:0/device:GPU:0 with 15403 MB memory:  -> device: 0, name: Tesla P100-PCIE-16GB, pci bus id: 0000:00:04.0, compute capability: 6.0\n"
     ]
    }
   ],
   "source": [
    "gru_model = Sequential()\n",
    "gru_model.add(Embedding(tokens_size+1,w2v_size, weights=[vector_matrix],input_length=max_sequence_length,trainable=False))\n",
    "gru_model.add(Dropout(0.3))\n",
    "gru_model.add(Bidirectional(GRU(100,dropout=0.2,recurrent_dropout=0.2)))\n",
    "gru_model.add(Dense(1,activation='sigmoid'))"
   ]
  },
  {
   "cell_type": "code",
   "execution_count": 20,
   "id": "536935bf",
   "metadata": {
    "execution": {
     "iopub.execute_input": "2022-05-24T22:36:02.277440Z",
     "iopub.status.busy": "2022-05-24T22:36:02.277226Z",
     "iopub.status.idle": "2022-05-24T22:36:02.288598Z",
     "shell.execute_reply": "2022-05-24T22:36:02.287990Z"
    },
    "papermill": {
     "duration": 0.041979,
     "end_time": "2022-05-24T22:36:02.290307",
     "exception": false,
     "start_time": "2022-05-24T22:36:02.248328",
     "status": "completed"
    },
    "tags": []
   },
   "outputs": [],
   "source": [
    "gru_model.compile(loss='binary_crossentropy',optimizer='adam',metrics=['accuracy'])"
   ]
  },
  {
   "cell_type": "code",
   "execution_count": 21,
   "id": "10c22b0f",
   "metadata": {
    "execution": {
     "iopub.execute_input": "2022-05-24T22:36:02.347380Z",
     "iopub.status.busy": "2022-05-24T22:36:02.347171Z",
     "iopub.status.idle": "2022-05-24T22:36:02.351229Z",
     "shell.execute_reply": "2022-05-24T22:36:02.350480Z"
    },
    "papermill": {
     "duration": 0.034894,
     "end_time": "2022-05-24T22:36:02.353043",
     "exception": false,
     "start_time": "2022-05-24T22:36:02.318149",
     "status": "completed"
    },
    "tags": []
   },
   "outputs": [],
   "source": [
    "callbacks = [ReduceLROnPlateau(monitor='val_loss',patience=5,cooldown=0),\n",
    "            EarlyStopping(monitor='val_accuracy',min_delta=1e-4,patience=5)]\n",
    "\n",
    "bs = 1024"
   ]
  },
  {
   "cell_type": "code",
   "execution_count": 22,
   "id": "64aeb2c0",
   "metadata": {
    "execution": {
     "iopub.execute_input": "2022-05-24T22:36:02.410007Z",
     "iopub.status.busy": "2022-05-24T22:36:02.409832Z",
     "iopub.status.idle": "2022-05-25T00:03:28.063173Z",
     "shell.execute_reply": "2022-05-25T00:03:28.062398Z"
    },
    "papermill": {
     "duration": 5245.68488,
     "end_time": "2022-05-25T00:03:28.065833",
     "exception": false,
     "start_time": "2022-05-24T22:36:02.380953",
     "status": "completed"
    },
    "tags": []
   },
   "outputs": [
    {
     "name": "stderr",
     "output_type": "stream",
     "text": [
      "2022-05-24 22:36:02.414676: W tensorflow/core/framework/cpu_allocator_impl.cc:80] Allocation of 1382400000 exceeds 10% of free system memory.\n",
      "2022-05-24 22:36:03.473570: I tensorflow/compiler/mlir/mlir_graph_optimization_pass.cc:185] None of the MLIR Optimization Passes are enabled (registered 2)\n"
     ]
    },
    {
     "name": "stdout",
     "output_type": "stream",
     "text": [
      "Epoch 1/5\n",
      "1125/1125 [==============================] - 1025s 908ms/step - loss: 0.4966 - accuracy: 0.7552 - val_loss: 0.4656 - val_accuracy: 0.7764\n",
      "Epoch 2/5\n",
      "1125/1125 [==============================] - 1030s 915ms/step - loss: 0.4741 - accuracy: 0.7705 - val_loss: 0.4577 - val_accuracy: 0.7813\n",
      "Epoch 3/5\n",
      "1125/1125 [==============================] - 1038s 922ms/step - loss: 0.4681 - accuracy: 0.7744 - val_loss: 0.4540 - val_accuracy: 0.7835\n",
      "Epoch 4/5\n",
      "1125/1125 [==============================] - 1043s 926ms/step - loss: 0.4643 - accuracy: 0.7770 - val_loss: 0.4523 - val_accuracy: 0.7844\n",
      "Epoch 5/5\n",
      "1125/1125 [==============================] - 1051s 934ms/step - loss: 0.4618 - accuracy: 0.7780 - val_loss: 0.4502 - val_accuracy: 0.7859\n"
     ]
    }
   ],
   "source": [
    "gru_history = gru_model.fit(X_train_padded,y_train,batch_size = bs, epochs=5,validation_split=0.1,verbose=1,callbacks=callbacks)"
   ]
  },
  {
   "cell_type": "code",
   "execution_count": 23,
   "id": "90987904",
   "metadata": {
    "execution": {
     "iopub.execute_input": "2022-05-25T00:03:31.634525Z",
     "iopub.status.busy": "2022-05-25T00:03:31.634037Z",
     "iopub.status.idle": "2022-05-25T00:03:32.177052Z",
     "shell.execute_reply": "2022-05-25T00:03:32.176323Z"
    },
    "papermill": {
     "duration": 2.319447,
     "end_time": "2022-05-25T00:03:32.179515",
     "exception": false,
     "start_time": "2022-05-25T00:03:29.860068",
     "status": "completed"
    },
    "tags": []
   },
   "outputs": [],
   "source": [
    "gru_model.save('main_GRU_model.h5')\n",
    "with open('main_GRU_history', 'wb') as file_pi:\n",
    "    pickle.dump(gru_history.history, file_pi)"
   ]
  },
  {
   "cell_type": "code",
   "execution_count": 24,
   "id": "e6ea378d",
   "metadata": {
    "execution": {
     "iopub.execute_input": "2022-05-25T00:03:35.657023Z",
     "iopub.status.busy": "2022-05-25T00:03:35.656781Z",
     "iopub.status.idle": "2022-05-25T00:05:32.351452Z",
     "shell.execute_reply": "2022-05-25T00:05:32.350749Z"
    },
    "papermill": {
     "duration": 118.441277,
     "end_time": "2022-05-25T00:05:32.353249",
     "exception": false,
     "start_time": "2022-05-25T00:03:33.911972",
     "status": "completed"
    },
    "tags": []
   },
   "outputs": [
    {
     "name": "stdout",
     "output_type": "stream",
     "text": [
      "625/625 [==============================] - 111s 177ms/step - loss: 0.4485 - accuracy: 0.7874\n",
      "ACCURACY: 0.7874218821525574\n",
      "LOSS: 0.4485459327697754\n"
     ]
    }
   ],
   "source": [
    "X_test_padded = tokenizer.texts_to_sequences(X_test.text)\n",
    "X_test_padded = pad_sequences(X_test_padded, maxlen=max_sequence_length)\n",
    "score = gru_model.evaluate(X_test_padded, y_test, batch_size=512)\n",
    "print(\"ACCURACY:\",score[1])\n",
    "print(\"LOSS:\",score[0])"
   ]
  },
  {
   "cell_type": "code",
   "execution_count": 25,
   "id": "2441ef46",
   "metadata": {
    "execution": {
     "iopub.execute_input": "2022-05-25T00:05:36.211111Z",
     "iopub.status.busy": "2022-05-25T00:05:36.210854Z",
     "iopub.status.idle": "2022-05-25T00:05:36.604542Z",
     "shell.execute_reply": "2022-05-25T00:05:36.603882Z"
    },
    "papermill": {
     "duration": 2.322399,
     "end_time": "2022-05-25T00:05:36.606221",
     "exception": false,
     "start_time": "2022-05-25T00:05:34.283822",
     "status": "completed"
    },
    "tags": []
   },
   "outputs": [
    {
     "data": {
      "image/png": "[encoded data removed]",
      "text/plain": [
       "<Figure size 432x288 with 1 Axes>"
      ]
     },
     "metadata": {
      "needs_background": "light"
     },
     "output_type": "display_data"
    },
    {
     "data": {
      "image/png": "[encoded data removed]",
      "text/plain": [
       "<Figure size 432x288 with 1 Axes>"
      ]
     },
     "metadata": {
      "needs_background": "light"
     },
     "output_type": "display_data"
    }
   ],
   "source": [
    "acc = gru_history.history['accuracy']\n",
    "val_acc = gru_history.history['val_accuracy']\n",
    "loss = gru_history.history['loss']\n",
    "val_loss = gru_history.history['val_loss']\n",
    " \n",
    "epochs = range(len(acc))\n",
    " \n",
    "plt.plot(epochs, acc, 'b', label='Training acc')\n",
    "plt.plot(epochs, val_acc, 'r', label='Validation acc')\n",
    "plt.title('Training and validation accuracy')\n",
    "plt.legend()\n",
    " \n",
    "plt.figure()\n",
    " \n",
    "plt.plot(epochs, loss, 'b', label='Training loss')\n",
    "plt.plot(epochs, val_loss, 'r', label='Validation loss')\n",
    "plt.title('Training and validation loss')\n",
    "plt.legend()\n",
    " \n",
    "plt.show(block=False)"
   ]
  },
  {
   "cell_type": "code",
   "execution_count": 26,
   "id": "0716c3c3",
   "metadata": {
    "execution": {
     "iopub.execute_input": "2022-05-25T00:05:40.808118Z",
     "iopub.status.busy": "2022-05-25T00:05:40.807861Z",
     "iopub.status.idle": "2022-05-25T00:05:40.813094Z",
     "shell.execute_reply": "2022-05-25T00:05:40.812439Z"
    },
    "papermill": {
     "duration": 2.024027,
     "end_time": "2022-05-25T00:05:40.814792",
     "exception": false,
     "start_time": "2022-05-25T00:05:38.790765",
     "status": "completed"
    },
    "tags": []
   },
   "outputs": [],
   "source": [
    "def predict(text, include_neutral=True):\n",
    "    # Tokenize text\n",
    "    x_test = pad_sequences(tokenizer.texts_to_sequences([text]), maxlen=max_sequence_length)\n",
    "    # Predict\n",
    "    score = gru_model.predict([x_test])[0]\n",
    "    if(score >=0.50):\n",
    "        label = \"Positive\"\n",
    "    if(score <0.50):\n",
    "        label = \"Negative\"\n",
    "\n",
    "    return {\"label\" : label,\n",
    "        \"score\": float(score)}  "
   ]
  },
  {
   "cell_type": "code",
   "execution_count": 27,
   "id": "43def1b3",
   "metadata": {
    "execution": {
     "iopub.execute_input": "2022-05-25T00:05:44.683697Z",
     "iopub.status.busy": "2022-05-25T00:05:44.683064Z",
     "iopub.status.idle": "2022-05-25T00:05:45.295822Z",
     "shell.execute_reply": "2022-05-25T00:05:45.295120Z"
    },
    "papermill": {
     "duration": 2.53294,
     "end_time": "2022-05-25T00:05:45.297640",
     "exception": false,
     "start_time": "2022-05-25T00:05:42.764700",
     "status": "completed"
    },
    "tags": []
   },
   "outputs": [
    {
     "data": {
      "text/plain": [
       "{'label': 'Negative', 'score': 0.42412254214286804}"
      ]
     },
     "execution_count": 27,
     "metadata": {},
     "output_type": "execute_result"
    }
   ],
   "source": [
    "predict(\"How u know u dont get real life pussy\")"
   ]
  },
  {
   "cell_type": "code",
   "execution_count": 28,
   "id": "37d2745e",
   "metadata": {
    "execution": {
     "iopub.execute_input": "2022-05-25T00:05:49.376456Z",
     "iopub.status.busy": "2022-05-25T00:05:49.376040Z",
     "iopub.status.idle": "2022-05-25T00:05:50.473991Z",
     "shell.execute_reply": "2022-05-25T00:05:50.473069Z"
    },
    "papermill": {
     "duration": 3.255881,
     "end_time": "2022-05-25T00:05:50.475982",
     "exception": false,
     "start_time": "2022-05-25T00:05:47.220101",
     "status": "completed"
    },
    "tags": []
   },
   "outputs": [
    {
     "data": {
      "image/png": "[encoded data removed]",
      "text/plain": [
       "<IPython.core.display.Image object>"
      ]
     },
     "execution_count": 28,
     "metadata": {},
     "output_type": "execute_result"
    }
   ],
   "source": [
    "from keras.utils.vis_utils import plot_model\n",
    "\n",
    "plot_model(gru_model,to_file='gru_model.png',show_layer_names=True, show_shapes=True)"
   ]
  }
 ],
 "metadata": {
  "kernelspec": {
   "display_name": "Python 3",
   "language": "python",
   "name": "python3"
  },
  "language_info": {
   "codemirror_mode": {
    "name": "ipython",
    "version": 3
   },
   "file_extension": ".py",
   "mimetype": "text/x-python",
   "name": "python",
   "nbconvert_exporter": "python",
   "pygments_lexer": "ipython3",
   "version": "3.7.12"
  },
  "papermill": {
   "default_parameters": {},
   "duration": 6683.220397,
   "end_time": "2022-05-25T00:05:56.168250",
   "environment_variables": {},
   "exception": null,
   "input_path": "__notebook__.ipynb",
   "output_path": "__notebook__.ipynb",
   "parameters": {},
   "start_time": "2022-05-24T22:14:32.947853",
   "version": "2.3.4"
  }
 },
 "nbformat": 4,
 "nbformat_minor": 5
}
