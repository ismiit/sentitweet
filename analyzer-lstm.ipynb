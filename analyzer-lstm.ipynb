{
 "cells": [
  {
   "cell_type": "code",
   "execution_count": 1,
   "id": "79240cb7",
   "metadata": {
    "_cell_guid": "b1076dfc-b9ad-4769-8c92-a6c4dae69d19",
    "_uuid": "8f2839f25d086af736a60e9eeb907d3b93b6e0e5",
    "execution": {
     "iopub.execute_input": "2022-05-24T20:16:12.967389Z",
     "iopub.status.busy": "2022-05-24T20:16:12.966924Z",
     "iopub.status.idle": "2022-05-24T20:16:12.987086Z",
     "shell.execute_reply": "2022-05-24T20:16:12.986286Z"
    },
    "papermill": {
     "duration": 0.04333,
     "end_time": "2022-05-24T20:16:12.989399",
     "exception": false,
     "start_time": "2022-05-24T20:16:12.946069",
     "status": "completed"
    },
    "tags": []
   },
   "outputs": [
    {
     "name": "stdout",
     "output_type": "stream",
     "text": [
      "/kaggle/input/sentiment140/training.1600000.processed.noemoticon.csv\n"
     ]
    }
   ],
   "source": [
    "# This Python 3 environment comes with many helpful analytics libraries installed\n",
    "# It is defined by the kaggle/python Docker image: https://github.com/kaggle/docker-python\n",
    "# For example, here's several helpful packages to load\n",
    "\n",
    "import numpy as np # linear algebra\n",
    "import pandas as pd # data processing, CSV file I/O (e.g. pd.read_csv)\n",
    "\n",
    "# Input data files are available in the read-only \"../input/\" directory\n",
    "# For example, running this (by clicking run or pressing Shift+Enter) will list all files under the input directory\n",
    "\n",
    "import os\n",
    "for dirname, _, filenames in os.walk('/kaggle/input'):\n",
    "    for filename in filenames:\n",
    "        print(os.path.join(dirname, filename))\n",
    "\n",
    "# You can write up to 20GB to the current directory (/kaggle/working/) that gets preserved as output when you create a version using \"Save & Run All\" \n",
    "# You can also write temporary files to /kaggle/temp/, but they won't be saved outside of the current session"
   ]
  },
  {
   "cell_type": "code",
   "execution_count": 2,
   "id": "790c062b",
   "metadata": {
    "execution": {
     "iopub.execute_input": "2022-05-24T20:16:13.028020Z",
     "iopub.status.busy": "2022-05-24T20:16:13.027740Z",
     "iopub.status.idle": "2022-05-24T20:16:19.527359Z",
     "shell.execute_reply": "2022-05-24T20:16:19.526522Z"
    },
    "papermill": {
     "duration": 6.521234,
     "end_time": "2022-05-24T20:16:19.529666",
     "exception": false,
     "start_time": "2022-05-24T20:16:13.008432",
     "status": "completed"
    },
    "tags": []
   },
   "outputs": [],
   "source": [
    "import numpy as np\n",
    "import pandas as pd\n",
    "import re\n",
    "import string\n",
    "import nltk\n",
    "import gensim\n",
    "import pickle\n",
    "import matplotlib.pyplot as plt\n",
    "from nltk.tokenize import word_tokenize\n",
    "from nltk.corpus import stopwords\n",
    "from nltk.stem.wordnet import WordNetLemmatizer\n",
    "from nltk.corpus import stopwords\n",
    "from nltk.corpus import stopwords\n",
    "from nltk import punkt\n",
    "from nltk import wordnet\n",
    "\n",
    "from sklearn.model_selection import train_test_split\n",
    "\n",
    "from keras.preprocessing.text import Tokenizer\n",
    "from keras.preprocessing.sequence import pad_sequences\n",
    "from keras.models import Sequential\n",
    "from keras.layers import Dense, Embedding, LSTM, Dropout, GRU, Bidirectional, Conv1D, GlobalMaxPooling1D,Flatten\n",
    "from keras.utils.np_utils import to_categorical\n",
    "from keras.callbacks import ReduceLROnPlateau, EarlyStopping"
   ]
  },
  {
   "cell_type": "code",
   "execution_count": 3,
   "id": "746d9b0d",
   "metadata": {
    "execution": {
     "iopub.execute_input": "2022-05-24T20:16:19.568075Z",
     "iopub.status.busy": "2022-05-24T20:16:19.567817Z",
     "iopub.status.idle": "2022-05-24T20:16:25.493392Z",
     "shell.execute_reply": "2022-05-24T20:16:25.492540Z"
    },
    "papermill": {
     "duration": 5.948125,
     "end_time": "2022-05-24T20:16:25.496228",
     "exception": false,
     "start_time": "2022-05-24T20:16:19.548103",
     "status": "completed"
    },
    "tags": []
   },
   "outputs": [
    {
     "name": "stderr",
     "output_type": "stream",
     "text": [
      "/opt/conda/lib/python3.7/site-packages/ipykernel_launcher.py:6: SettingWithCopyWarning: \n",
      "A value is trying to be set on a copy of a slice from a DataFrame\n",
      "\n",
      "See the caveats in the documentation: https://pandas.pydata.org/pandas-docs/stable/user_guide/indexing.html#returning-a-view-versus-a-copy\n",
      "  \n"
     ]
    }
   ],
   "source": [
    "data_columns = [\"target\", \"ids\", \"date\", \"flag\", \"user\", \"text\"]\n",
    "data_encoding = \"ISO-8859-1\"\n",
    "data=pd.read_csv('/kaggle/input/sentiment140/training.1600000.processed.noemoticon.csv',encoding = data_encoding, names=data_columns)\n",
    "X = data.iloc[:,[5]]\n",
    "y = data.iloc[:,0]\n",
    "y[y==4]=1"
   ]
  },
  {
   "cell_type": "code",
   "execution_count": 4,
   "id": "9e679c34",
   "metadata": {
    "execution": {
     "iopub.execute_input": "2022-05-24T20:16:25.534639Z",
     "iopub.status.busy": "2022-05-24T20:16:25.534384Z",
     "iopub.status.idle": "2022-05-24T20:16:25.543391Z",
     "shell.execute_reply": "2022-05-24T20:16:25.542455Z"
    },
    "papermill": {
     "duration": 0.031133,
     "end_time": "2022-05-24T20:16:25.545742",
     "exception": false,
     "start_time": "2022-05-24T20:16:25.514609",
     "status": "completed"
    },
    "tags": []
   },
   "outputs": [],
   "source": [
    "def repair(tweet):\n",
    "    username = \"@\\S+\"\n",
    "    new_tweet = re.sub(username, ' ',tweet) # Remove @tags\n",
    "    \n",
    "    new_tweet = new_tweet.lower() # Smart lowercase\n",
    "    \n",
    "    new_tweet = re.sub(r'\\d+', ' ', new_tweet) # Remove numbers\n",
    "    \n",
    "    text_noise = \"https?:\\S+|http?:\\S|[^A-Za-z0-9]+\" \n",
    "    new_tweet = re.sub(text_noise, ' ', new_tweet) # Remove links\n",
    "    \n",
    "    new_tweet = new_tweet.translate(new_tweet.maketrans('','',string.punctuation)) # Remove Punctuation\n",
    "    \n",
    "    new_tweet = new_tweet.strip() # Remove white spaces\n",
    "    \n",
    "    new_tweet = word_tokenize(new_tweet) # Tokenize into words\n",
    "    \n",
    "    new_tweet = ' '.join([word for word in new_tweet if word.isalpha()]) # Remove non alphabetic tokens\n",
    "    \n",
    "    stop_words = set(stopwords.words('english'))\n",
    "    new_tweet = ' '.join([word for word in new_tweet.split() if not word in stop_words]) # Filter out stop words\n",
    "    \n",
    "    lemmatizer = WordNetLemmatizer()\n",
    "    new_tweet = ' '.join([lemmatizer.lemmatize(word,\"v\") for word in new_tweet.split()]) # Word Lemmatization\n",
    "    \n",
    "    return new_tweet"
   ]
  },
  {
   "cell_type": "code",
   "execution_count": 5,
   "id": "8e35e864",
   "metadata": {
    "execution": {
     "iopub.execute_input": "2022-05-24T20:16:25.583576Z",
     "iopub.status.busy": "2022-05-24T20:16:25.583318Z",
     "iopub.status.idle": "2022-05-24T20:28:56.204111Z",
     "shell.execute_reply": "2022-05-24T20:28:56.203260Z"
    },
    "papermill": {
     "duration": 750.662069,
     "end_time": "2022-05-24T20:28:56.226026",
     "exception": false,
     "start_time": "2022-05-24T20:16:25.563957",
     "status": "completed"
    },
    "tags": []
   },
   "outputs": [
    {
     "name": "stderr",
     "output_type": "stream",
     "text": [
      "/opt/conda/lib/python3.7/site-packages/ipykernel_launcher.py:1: SettingWithCopyWarning: \n",
      "A value is trying to be set on a copy of a slice from a DataFrame.\n",
      "Try using .loc[row_indexer,col_indexer] = value instead\n",
      "\n",
      "See the caveats in the documentation: https://pandas.pydata.org/pandas-docs/stable/user_guide/indexing.html#returning-a-view-versus-a-copy\n",
      "  \"\"\"Entry point for launching an IPython kernel.\n"
     ]
    }
   ],
   "source": [
    "X['text']= X['text'].apply(repair)"
   ]
  },
  {
   "cell_type": "code",
   "execution_count": 6,
   "id": "0273fb39",
   "metadata": {
    "execution": {
     "iopub.execute_input": "2022-05-24T20:28:56.265876Z",
     "iopub.status.busy": "2022-05-24T20:28:56.265599Z",
     "iopub.status.idle": "2022-05-24T20:28:56.750852Z",
     "shell.execute_reply": "2022-05-24T20:28:56.749987Z"
    },
    "papermill": {
     "duration": 0.507985,
     "end_time": "2022-05-24T20:28:56.753221",
     "exception": false,
     "start_time": "2022-05-24T20:28:56.245236",
     "status": "completed"
    },
    "tags": []
   },
   "outputs": [
    {
     "name": "stdout",
     "output_type": "stream",
     "text": [
      "TRAIN size: 1280000\n",
      "TEST size: 320000\n"
     ]
    }
   ],
   "source": [
    "X_train, X_test, y_train, y_test = train_test_split(X, y, test_size=0.2, random_state=42)\n",
    "print(\"TRAIN size:\", len(X_train))\n",
    "print(\"TEST size:\", len(X_test))"
   ]
  },
  {
   "cell_type": "code",
   "execution_count": 7,
   "id": "bb01f2cd",
   "metadata": {
    "execution": {
     "iopub.execute_input": "2022-05-24T20:28:56.794851Z",
     "iopub.status.busy": "2022-05-24T20:28:56.794562Z",
     "iopub.status.idle": "2022-05-24T20:29:04.362310Z",
     "shell.execute_reply": "2022-05-24T20:29:04.361301Z"
    },
    "papermill": {
     "duration": 7.591265,
     "end_time": "2022-05-24T20:29:04.365048",
     "exception": false,
     "start_time": "2022-05-24T20:28:56.773783",
     "status": "completed"
    },
    "tags": []
   },
   "outputs": [],
   "source": [
    "w2v_size = 300\n",
    "w2v_win = 7\n",
    "w2v_epoch = 32\n",
    "w2v_mincount = 10\n",
    "\n",
    "document = [tweet.split() for tweet in X_train.text]\n",
    "word2vec_model = gensim.models.word2vec.Word2Vec(vector_size=w2v_size,\n",
    "                                                window=w2v_win,\n",
    "                                                min_count=w2v_mincount,\n",
    "                                                workers=8)\n",
    "\n",
    "word2vec_model.build_vocab(document)"
   ]
  },
  {
   "cell_type": "code",
   "execution_count": 8,
   "id": "5d0ce407",
   "metadata": {
    "execution": {
     "iopub.execute_input": "2022-05-24T20:29:04.408976Z",
     "iopub.status.busy": "2022-05-24T20:29:04.408300Z",
     "iopub.status.idle": "2022-05-24T20:29:04.413309Z",
     "shell.execute_reply": "2022-05-24T20:29:04.412534Z"
    },
    "papermill": {
     "duration": 0.028548,
     "end_time": "2022-05-24T20:29:04.416144",
     "exception": false,
     "start_time": "2022-05-24T20:29:04.387596",
     "status": "completed"
    },
    "tags": []
   },
   "outputs": [
    {
     "name": "stdout",
     "output_type": "stream",
     "text": [
      "Vocabulary_size :::  25276\n"
     ]
    }
   ],
   "source": [
    "words = word2vec_model.wv.index_to_key\n",
    "vocabulary_size = len(words)\n",
    "print('Vocabulary_size ::: ',vocabulary_size)"
   ]
  },
  {
   "cell_type": "code",
   "execution_count": 9,
   "id": "f0270e75",
   "metadata": {
    "execution": {
     "iopub.execute_input": "2022-05-24T20:29:04.468919Z",
     "iopub.status.busy": "2022-05-24T20:29:04.467800Z",
     "iopub.status.idle": "2022-05-24T20:42:29.758916Z",
     "shell.execute_reply": "2022-05-24T20:42:29.758111Z"
    },
    "papermill": {
     "duration": 805.351552,
     "end_time": "2022-05-24T20:42:29.787802",
     "exception": false,
     "start_time": "2022-05-24T20:29:04.436250",
     "status": "completed"
    },
    "tags": []
   },
   "outputs": [
    {
     "data": {
      "text/plain": [
       "(251375043, 289225504)"
      ]
     },
     "execution_count": 9,
     "metadata": {},
     "output_type": "execute_result"
    }
   ],
   "source": [
    "word2vec_model.train(document,total_examples=len(document),epochs=w2v_epoch)"
   ]
  },
  {
   "cell_type": "code",
   "execution_count": 10,
   "id": "81959db3",
   "metadata": {
    "execution": {
     "iopub.execute_input": "2022-05-24T20:42:29.856670Z",
     "iopub.status.busy": "2022-05-24T20:42:29.856230Z",
     "iopub.status.idle": "2022-05-24T20:42:50.111539Z",
     "shell.execute_reply": "2022-05-24T20:42:50.110638Z"
    },
    "papermill": {
     "duration": 20.29298,
     "end_time": "2022-05-24T20:42:50.114287",
     "exception": false,
     "start_time": "2022-05-24T20:42:29.821307",
     "status": "completed"
    },
    "tags": []
   },
   "outputs": [
    {
     "name": "stdout",
     "output_type": "stream",
     "text": [
      "No.of unique tokens === 232838\n"
     ]
    }
   ],
   "source": [
    "max_sequence_length = 300\n",
    "vector_size = 300\n",
    "\n",
    "tokenizer = Tokenizer()\n",
    "tokenizer.fit_on_texts(X_train.text)\n",
    "unique_tokens = tokenizer.word_index\n",
    "tokens_size = len(unique_tokens)\n",
    "print('No.of unique tokens === %s'%tokens_size)"
   ]
  },
  {
   "cell_type": "code",
   "execution_count": 11,
   "id": "821a309a",
   "metadata": {
    "execution": {
     "iopub.execute_input": "2022-05-24T20:42:50.159825Z",
     "iopub.status.busy": "2022-05-24T20:42:50.159153Z",
     "iopub.status.idle": "2022-05-24T20:43:14.771118Z",
     "shell.execute_reply": "2022-05-24T20:43:14.770306Z"
    },
    "papermill": {
     "duration": 24.636523,
     "end_time": "2022-05-24T20:43:14.773487",
     "exception": false,
     "start_time": "2022-05-24T20:42:50.136964",
     "status": "completed"
    },
    "tags": []
   },
   "outputs": [],
   "source": [
    "X_train_padded = tokenizer.texts_to_sequences(X_train.text)\n",
    "X_train_padded = pad_sequences(X_train_padded,maxlen=max_sequence_length)\n"
   ]
  },
  {
   "cell_type": "code",
   "execution_count": 12,
   "id": "19e09ba0",
   "metadata": {
    "execution": {
     "iopub.execute_input": "2022-05-24T20:43:14.818677Z",
     "iopub.status.busy": "2022-05-24T20:43:14.818384Z",
     "iopub.status.idle": "2022-05-24T20:43:15.240825Z",
     "shell.execute_reply": "2022-05-24T20:43:15.239803Z"
    },
    "papermill": {
     "duration": 0.447739,
     "end_time": "2022-05-24T20:43:15.243124",
     "exception": false,
     "start_time": "2022-05-24T20:43:14.795385",
     "status": "completed"
    },
    "tags": []
   },
   "outputs": [
    {
     "name": "stdout",
     "output_type": "stream",
     "text": [
      "vector matrix shape ===  (232839, 300)\n"
     ]
    },
    {
     "data": {
      "text/plain": [
       "array([[ 0.        ,  0.        ,  0.        , ...,  0.        ,\n",
       "         0.        ,  0.        ],\n",
       "       [ 0.72124171, -1.40965521, -0.03910754, ...,  0.67084068,\n",
       "        -0.33587372,  0.79917985],\n",
       "       [-0.23437582,  0.07173083, -0.79243428, ..., -0.62959689,\n",
       "        -0.02236091, -0.04990634],\n",
       "       ...,\n",
       "       [ 0.        ,  0.        ,  0.        , ...,  0.        ,\n",
       "         0.        ,  0.        ],\n",
       "       [ 0.        ,  0.        ,  0.        , ...,  0.        ,\n",
       "         0.        ,  0.        ],\n",
       "       [ 0.        ,  0.        ,  0.        , ...,  0.        ,\n",
       "         0.        ,  0.        ]])"
      ]
     },
     "execution_count": 12,
     "metadata": {},
     "output_type": "execute_result"
    }
   ],
   "source": [
    "vector_matrix = np.zeros((tokens_size+1,w2v_size))\n",
    "\n",
    "for word,i in tokenizer.word_index.items():\n",
    "    if word in word2vec_model.wv:\n",
    "        vector_matrix[i]=word2vec_model.wv[word]\n",
    "\n",
    "print('vector matrix shape === ',vector_matrix.shape)\n",
    "\n",
    "vector_matrix"
   ]
  },
  {
   "cell_type": "code",
   "execution_count": 13,
   "id": "2a063ac4",
   "metadata": {
    "execution": {
     "iopub.execute_input": "2022-05-24T20:43:15.295264Z",
     "iopub.status.busy": "2022-05-24T20:43:15.295007Z",
     "iopub.status.idle": "2022-05-24T20:43:18.524148Z",
     "shell.execute_reply": "2022-05-24T20:43:18.523350Z"
    },
    "papermill": {
     "duration": 3.257689,
     "end_time": "2022-05-24T20:43:18.526570",
     "exception": false,
     "start_time": "2022-05-24T20:43:15.268881",
     "status": "completed"
    },
    "tags": []
   },
   "outputs": [
    {
     "name": "stderr",
     "output_type": "stream",
     "text": [
      "2022-05-24 20:43:15.379581: I tensorflow/stream_executor/cuda/cuda_gpu_executor.cc:937] successful NUMA node read from SysFS had negative value (-1), but there must be at least one NUMA node, so returning NUMA node zero\n",
      "2022-05-24 20:43:15.483029: I tensorflow/stream_executor/cuda/cuda_gpu_executor.cc:937] successful NUMA node read from SysFS had negative value (-1), but there must be at least one NUMA node, so returning NUMA node zero\n",
      "2022-05-24 20:43:15.483916: I tensorflow/stream_executor/cuda/cuda_gpu_executor.cc:937] successful NUMA node read from SysFS had negative value (-1), but there must be at least one NUMA node, so returning NUMA node zero\n",
      "2022-05-24 20:43:15.485453: I tensorflow/core/platform/cpu_feature_guard.cc:142] This TensorFlow binary is optimized with oneAPI Deep Neural Network Library (oneDNN) to use the following CPU instructions in performance-critical operations:  AVX2 AVX512F FMA\n",
      "To enable them in other operations, rebuild TensorFlow with the appropriate compiler flags.\n",
      "2022-05-24 20:43:15.485761: I tensorflow/stream_executor/cuda/cuda_gpu_executor.cc:937] successful NUMA node read from SysFS had negative value (-1), but there must be at least one NUMA node, so returning NUMA node zero\n",
      "2022-05-24 20:43:15.486560: I tensorflow/stream_executor/cuda/cuda_gpu_executor.cc:937] successful NUMA node read from SysFS had negative value (-1), but there must be at least one NUMA node, so returning NUMA node zero\n",
      "2022-05-24 20:43:15.487311: I tensorflow/stream_executor/cuda/cuda_gpu_executor.cc:937] successful NUMA node read from SysFS had negative value (-1), but there must be at least one NUMA node, so returning NUMA node zero\n",
      "2022-05-24 20:43:17.386029: I tensorflow/stream_executor/cuda/cuda_gpu_executor.cc:937] successful NUMA node read from SysFS had negative value (-1), but there must be at least one NUMA node, so returning NUMA node zero\n",
      "2022-05-24 20:43:17.386997: I tensorflow/stream_executor/cuda/cuda_gpu_executor.cc:937] successful NUMA node read from SysFS had negative value (-1), but there must be at least one NUMA node, so returning NUMA node zero\n",
      "2022-05-24 20:43:17.387802: I tensorflow/stream_executor/cuda/cuda_gpu_executor.cc:937] successful NUMA node read from SysFS had negative value (-1), but there must be at least one NUMA node, so returning NUMA node zero\n",
      "2022-05-24 20:43:17.389219: I tensorflow/core/common_runtime/gpu/gpu_device.cc:1510] Created device /job:localhost/replica:0/task:0/device:GPU:0 with 15403 MB memory:  -> device: 0, name: Tesla P100-PCIE-16GB, pci bus id: 0000:00:04.0, compute capability: 6.0\n"
     ]
    }
   ],
   "source": [
    "lstm_model = Sequential()\n",
    "lstm_model.add(Embedding(tokens_size+1,w2v_size, weights=[vector_matrix],input_length=max_sequence_length,trainable=False))\n",
    "lstm_model.add(Dropout(0.3))\n",
    "lstm_model.add(Bidirectional(LSTM(100,dropout=0.2,recurrent_dropout=0.2)))\n",
    "lstm_model.add(Dense(1,activation='sigmoid'))"
   ]
  },
  {
   "cell_type": "code",
   "execution_count": 14,
   "id": "55e70304",
   "metadata": {
    "execution": {
     "iopub.execute_input": "2022-05-24T20:43:18.575078Z",
     "iopub.status.busy": "2022-05-24T20:43:18.574427Z",
     "iopub.status.idle": "2022-05-24T20:43:18.587760Z",
     "shell.execute_reply": "2022-05-24T20:43:18.587036Z"
    },
    "papermill": {
     "duration": 0.039364,
     "end_time": "2022-05-24T20:43:18.589674",
     "exception": false,
     "start_time": "2022-05-24T20:43:18.550310",
     "status": "completed"
    },
    "tags": []
   },
   "outputs": [],
   "source": [
    "lstm_model.compile(loss='binary_crossentropy',optimizer='adam',metrics=['accuracy'])"
   ]
  },
  {
   "cell_type": "code",
   "execution_count": 15,
   "id": "1c2ca5d4",
   "metadata": {
    "execution": {
     "iopub.execute_input": "2022-05-24T20:43:18.638410Z",
     "iopub.status.busy": "2022-05-24T20:43:18.638195Z",
     "iopub.status.idle": "2022-05-24T20:43:18.642591Z",
     "shell.execute_reply": "2022-05-24T20:43:18.641830Z"
    },
    "papermill": {
     "duration": 0.030458,
     "end_time": "2022-05-24T20:43:18.644415",
     "exception": false,
     "start_time": "2022-05-24T20:43:18.613957",
     "status": "completed"
    },
    "tags": []
   },
   "outputs": [],
   "source": [
    "callbacks = [ReduceLROnPlateau(monitor='val_loss',patience=5,cooldown=0),\n",
    "            EarlyStopping(monitor='val_accuracy',min_delta=1e-4,patience=5)]\n",
    "\n",
    "bs = 1024"
   ]
  },
  {
   "cell_type": "code",
   "execution_count": 16,
   "id": "3e47d893",
   "metadata": {
    "execution": {
     "iopub.execute_input": "2022-05-24T20:43:18.692703Z",
     "iopub.status.busy": "2022-05-24T20:43:18.692088Z",
     "iopub.status.idle": "2022-05-24T22:25:44.848122Z",
     "shell.execute_reply": "2022-05-24T22:25:44.847200Z"
    },
    "papermill": {
     "duration": 6146.183128,
     "end_time": "2022-05-24T22:25:44.850861",
     "exception": false,
     "start_time": "2022-05-24T20:43:18.667733",
     "status": "completed"
    },
    "tags": []
   },
   "outputs": [
    {
     "name": "stderr",
     "output_type": "stream",
     "text": [
      "2022-05-24 20:43:18.698066: W tensorflow/core/framework/cpu_allocator_impl.cc:80] Allocation of 1382400000 exceeds 10% of free system memory.\n",
      "2022-05-24 20:43:19.853917: I tensorflow/compiler/mlir/mlir_graph_optimization_pass.cc:185] None of the MLIR Optimization Passes are enabled (registered 2)\n"
     ]
    },
    {
     "name": "stdout",
     "output_type": "stream",
     "text": [
      "Epoch 1/5\n",
      "1125/1125 [==============================] - 1206s 1s/step - loss: 0.4903 - accuracy: 0.7603 - val_loss: 0.4627 - val_accuracy: 0.7793\n",
      "Epoch 2/5\n",
      "1125/1125 [==============================] - 1212s 1s/step - loss: 0.4679 - accuracy: 0.7742 - val_loss: 0.4532 - val_accuracy: 0.7845\n",
      "Epoch 3/5\n",
      "1125/1125 [==============================] - 1221s 1s/step - loss: 0.4607 - accuracy: 0.7789 - val_loss: 0.4505 - val_accuracy: 0.7865\n",
      "Epoch 4/5\n",
      "1125/1125 [==============================] - 1242s 1s/step - loss: 0.4570 - accuracy: 0.7814 - val_loss: 0.4490 - val_accuracy: 0.7872\n",
      "Epoch 5/5\n",
      "1125/1125 [==============================] - 1261s 1s/step - loss: 0.4542 - accuracy: 0.7827 - val_loss: 0.4473 - val_accuracy: 0.7879\n"
     ]
    }
   ],
   "source": [
    "lstm_history = lstm_model.fit(X_train_padded,y_train,batch_size = bs, epochs=5,validation_split=0.1,verbose=1,callbacks=callbacks)"
   ]
  },
  {
   "cell_type": "code",
   "execution_count": 17,
   "id": "b86f4c46",
   "metadata": {
    "execution": {
     "iopub.execute_input": "2022-05-24T22:25:49.000945Z",
     "iopub.status.busy": "2022-05-24T22:25:49.000663Z",
     "iopub.status.idle": "2022-05-24T22:28:18.507110Z",
     "shell.execute_reply": "2022-05-24T22:28:18.506182Z"
    },
    "papermill": {
     "duration": 153.94387,
     "end_time": "2022-05-24T22:28:20.884564",
     "exception": false,
     "start_time": "2022-05-24T22:25:46.940694",
     "status": "completed"
    },
    "tags": []
   },
   "outputs": [
    {
     "name": "stdout",
     "output_type": "stream",
     "text": [
      "625/625 [==============================] - 107s 170ms/step - loss: 0.4460 - accuracy: 0.7895\n",
      "ACCURACY: 0.7894625067710876\n",
      "LOSS: 0.44596225023269653\n"
     ]
    }
   ],
   "source": [
    "X_test_padded = tokenizer.texts_to_sequences(X_test.text)\n",
    "X_test_padded = pad_sequences(X_test_padded, maxlen=max_sequence_length)\n",
    "score = lstm_model.evaluate(X_test_padded, y_test, batch_size=512)\n",
    "print(\"ACCURACY:\",score[1])\n",
    "print(\"LOSS:\",score[0])"
   ]
  },
  {
   "cell_type": "code",
   "execution_count": 18,
   "id": "80bcfd78",
   "metadata": {
    "execution": {
     "iopub.execute_input": "2022-05-24T22:28:25.559784Z",
     "iopub.status.busy": "2022-05-24T22:28:25.559469Z",
     "iopub.status.idle": "2022-05-24T22:28:26.073911Z",
     "shell.execute_reply": "2022-05-24T22:28:26.073079Z"
    },
    "papermill": {
     "duration": 2.864527,
     "end_time": "2022-05-24T22:28:26.076709",
     "exception": false,
     "start_time": "2022-05-24T22:28:23.212182",
     "status": "completed"
    },
    "tags": []
   },
   "outputs": [
    {
     "data": {
      "image/png": "[encoded data removed]",
      "text/plain": [
       "<Figure size 432x288 with 1 Axes>"
      ]
     },
     "metadata": {
      "needs_background": "light"
     },
     "output_type": "display_data"
    },
    {
     "data": {
      "image/png": "[encoded data removed]",
      "text/plain": [
       "<Figure size 432x288 with 1 Axes>"
      ]
     },
     "metadata": {
      "needs_background": "light"
     },
     "output_type": "display_data"
    }
   ],
   "source": [
    "acc = lstm_history.history['accuracy']\n",
    "val_acc = lstm_history.history['val_accuracy']\n",
    "loss = lstm_history.history['loss']\n",
    "val_loss = lstm_history.history['val_loss']\n",
    " \n",
    "epochs = range(len(acc))\n",
    " \n",
    "plt.plot(epochs, acc, 'b', label='Training acc')\n",
    "plt.plot(epochs, val_acc, 'r', label='Validation acc')\n",
    "plt.title('Training and validation accuracy')\n",
    "plt.legend()\n",
    " \n",
    "plt.figure()\n",
    " \n",
    "plt.plot(epochs, loss, 'b', label='Training loss')\n",
    "plt.plot(epochs, val_loss, 'r', label='Validation loss')\n",
    "plt.title('Training and validation loss')\n",
    "plt.legend()\n",
    " \n",
    "plt.show(block=False)"
   ]
  },
  {
   "cell_type": "code",
   "execution_count": 19,
   "id": "acc2b2c6",
   "metadata": {
    "execution": {
     "iopub.execute_input": "2022-05-24T22:28:31.058509Z",
     "iopub.status.busy": "2022-05-24T22:28:31.058186Z",
     "iopub.status.idle": "2022-05-24T22:28:32.193404Z",
     "shell.execute_reply": "2022-05-24T22:28:32.192494Z"
    },
    "papermill": {
     "duration": 3.490255,
     "end_time": "2022-05-24T22:28:32.195633",
     "exception": false,
     "start_time": "2022-05-24T22:28:28.705378",
     "status": "completed"
    },
    "tags": []
   },
   "outputs": [
    {
     "data": {
      "image/png": "[encoded data removed]",
      "text/plain": [
       "<IPython.core.display.Image object>"
      ]
     },
     "execution_count": 19,
     "metadata": {},
     "output_type": "execute_result"
    }
   ],
   "source": [
    "from keras.utils.vis_utils import plot_model\n",
    "\n",
    "plot_model(lstm_model,to_file='lstm_model.png',show_layer_names=True, show_shapes=True)"
   ]
  },
  {
   "cell_type": "code",
   "execution_count": 20,
   "id": "c3ad6ff7",
   "metadata": {
    "execution": {
     "iopub.execute_input": "2022-05-24T22:28:36.884541Z",
     "iopub.status.busy": "2022-05-24T22:28:36.884198Z",
     "iopub.status.idle": "2022-05-24T22:28:37.495837Z",
     "shell.execute_reply": "2022-05-24T22:28:37.494957Z"
    },
    "papermill": {
     "duration": 2.956462,
     "end_time": "2022-05-24T22:28:37.498226",
     "exception": false,
     "start_time": "2022-05-24T22:28:34.541764",
     "status": "completed"
    },
    "tags": []
   },
   "outputs": [],
   "source": [
    "lstm_model.save('main_LSTM_model.h5')\n",
    "with open('main_LSTM_history', 'wb') as file_pi:\n",
    "    pickle.dump(lstm_history.history, file_pi)"
   ]
  }
 ],
 "metadata": {
  "kernelspec": {
   "display_name": "Python 3",
   "language": "python",
   "name": "python3"
  },
  "language_info": {
   "codemirror_mode": {
    "name": "ipython",
    "version": 3
   },
   "file_extension": ".py",
   "mimetype": "text/x-python",
   "name": "python",
   "nbconvert_exporter": "python",
   "pygments_lexer": "ipython3",
   "version": "3.7.12"
  },
  "papermill": {
   "default_parameters": {},
   "duration": 7959.446704,
   "end_time": "2022-05-24T22:28:43.581452",
   "environment_variables": {},
   "exception": null,
   "input_path": "__notebook__.ipynb",
   "output_path": "__notebook__.ipynb",
   "parameters": {},
   "start_time": "2022-05-24T20:16:04.134748",
   "version": "2.3.4"
  }
 },
 "nbformat": 4,
 "nbformat_minor": 5
}
